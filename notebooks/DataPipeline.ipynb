{
  "cells": [
    {
      "cell_type": "markdown",
      "metadata": {
        "id": "6iKQjJmJ26yQ"
      },
      "source": [
        "# Datapipeline:\n",
        "\n",
        "WARNING:\n",
        "\n",
        "+ For the script to work the data files must be positiong in the data path of the repository.\n",
        "Or the path to the data must be adapted accordingly. In this script all data must be in data_path\n",
        "+ The *Data which is used : EU_all_current_shared.parquet* from Andreas preprocession.\n",
        "\n",
        "Import the necessary libraries\n",
        "\n",
        "0. Load the Data\n",
        "\n",
        "* Load the data from a specified file using the appropriate function.\n",
        "* Save the loaded data into a variable (called df) for further use.\n",
        "\n",
        "1. Main data pipeline\n",
        "Treat data to reach a point were we have the data frame ready for the separate treatments for classification and regression treatment\n",
        "\n",
        "* 1.A: Omitting / deleting of variables which have no meaning for the model (explain why)\n",
        "* 1.B: Omitting / deleting car identifiers because they are not relevant for the model\n",
        "* 1.C: Omitting data before a certain year (explain why)\n",
        "* 1.D: Treatment of outliers (explaing why)\n",
        "    * Mean for gaussian like data\n",
        "    * Other technique for non gaussian distributed data\n",
        "* 1.E: Separation into electric cars and non electric cars (explain why)\n",
        "\n",
        "2. Data pipeline for classification models\n",
        "Prepare data so that it can be used for all basic classification models\n",
        "\n",
        "* Loading data which has received the first/main data pipeline\n",
        "*\n",
        "*\n",
        "*\n",
        "* Separation into train and test data\n",
        "* Scale data\n",
        "\n",
        "3. Data pipeline for regression models\n",
        "Prepare data so that it can be used for all basic regression models\n",
        "\n",
        "* Loading data which has received the first/main data pipeline\n",
        "*\n",
        "*\n",
        "*\n",
        "* Separation into train and test data\n",
        "\n",
        "4. Evaluation with baseline classification models\n",
        "\n",
        "* Create different baselin models\n",
        "* Train models\n",
        "* Prediction\n",
        "* Evaluation / Score\n",
        "\n",
        "5. Evaluation with baseline regression models\n",
        "\n",
        "* Create different baselin models\n",
        "* Train models\n",
        "* Prediction\n",
        "* Evaluation / Score\n",
        "\n"
      ]
    },
    {
      "cell_type": "markdown",
      "metadata": {
        "id": "zHpRvwPT26ya"
      },
      "source": [
        "# Importing necessary libraries"
      ]
    },
    {
      "cell_type": "code",
      "execution_count": null,
      "metadata": {
        "id": "7PLmQrA926yb"
      },
      "outputs": [],
      "source": [
        "# Import the required libraries\n",
        "\n",
        "# Data manipulation and math operations\n",
        "import pandas as pd\n",
        "import numpy as np\n",
        "import pyarrow.parquet as pq  # For working with parquet files\n",
        "\n",
        "# Visualization libraries\n",
        "import matplotlib.pyplot as plt  # For Matplotlib visualizations\n",
        "import seaborn as sns            # For Seaborn visualizations\n",
        "import plotly.express as px      # For interactive visualizations with Plotly\n",
        "# %matplotlib inline  # Uncomment for Jupyter notebooks to display plots inline\n",
        "\n",
        "# System libraries\n",
        "import warnings\n",
        "import os\n",
        "# Ignore all warnings (useful for ignoring non-critical warnings)\n",
        "warnings.filterwarnings(\"ignore\")\n",
        "\n",
        "# Machine Learning libraries\n",
        "from sklearn.model_selection import train_test_split  # For splitting data into training and test sets\n",
        "from sklearn.preprocessing import OneHotEncoder, StandardScaler  # For encoding categorical variables and scaling features\n",
        "\n",
        "# Regression model and evaluation\n",
        "from sklearn.linear_model import LinearRegression  # For linear regression models\n",
        "from sklearn.metrics import mean_squared_error  # For calculating mean squared error (MSE)\n",
        "\n",
        "# Libraries for decision tree, random forest, and other machine learning models\n",
        "from sklearn.tree import DecisionTreeClassifier, DecisionTreeRegressor  # For decision tree models (classification and regression)\n",
        "from sklearn.ensemble import RandomForestClassifier, RandomForestRegressor  # For random forest models (classification and regression)\n",
        "from sklearn.svm import SVC  # For Support Vector Classification\n",
        "from sklearn.neighbors import KNeighborsClassifier  # For K-Nearest Neighbors classification\n",
        "from sklearn.metrics import accuracy_score, classification_report  # For model evaluation (classification metrics)\n"
      ]
    },
    {
      "cell_type": "code",
      "execution_count": null,
      "metadata": {
        "colab": {
          "base_uri": "https://localhost:8080/"
        },
        "id": "m8aTYF-k3EyH",
        "outputId": "7c33318f-445e-44b2-bfa6-be4a5b1471be"
      },
      "outputs": [
        {
          "name": "stdout",
          "output_type": "stream",
          "text": [
            "Mounted at /content/drive\n"
          ]
        }
      ],
      "source": [
        "from google.colab import drive\n",
        "drive.mount('/content/drive')"
      ]
    },
    {
      "cell_type": "markdown",
      "metadata": {
        "id": "GcfwmoCA26yd"
      },
      "source": [
        "# 0. Additional functions in between: Load, Save, Inspect - DFs"
      ]
    },
    {
      "cell_type": "code",
      "execution_count": null,
      "metadata": {
        "id": "Vr-JpPQc26ye"
      },
      "outputs": [],
      "source": [
        "# Path to the neighboring 'data' folder in the local repository\n",
        "data_path = os.path.abspath(os.path.join(os.getcwd(), '..', 'data'))\n",
        "\n",
        "# Define Loading data function for the local drive\n",
        "def load_data_local(file_name, file_path):\n",
        "    \"\"\"\n",
        "    Loads a parquet or csv file from the local directory.\n",
        "\n",
        "    Parameters:\n",
        "    file_name (str): The name of the file to load.\n",
        "    file_path (str): The path to the directory where the file is located.\n",
        "\n",
        "    Returns:\n",
        "    pd.DataFrame: The loaded data as a pandas DataFrame.\n",
        "    \"\"\"\n",
        "    # Full file path\n",
        "    full_file_path = os.path.join(file_path, file_name)\n",
        "\n",
        "    # Check file extension and load accordingly\n",
        "    if file_name.endswith('.parquet'):\n",
        "        print(f\"Loading parquet file from local path: {full_file_path}\")\n",
        "        table = pq.read_table(full_file_path)\n",
        "        df = table.to_pandas()  # Convert to pandas DataFrame\n",
        "    elif file_name.endswith('.csv'):\n",
        "        print(f\"Loading csv file from local path: {full_file_path}\")\n",
        "        df = pd.read_csv(full_file_path)  # Read CSV into pandas DataFrame\n",
        "    else:\n",
        "        raise ValueError(\"Unsupported file format. Please provide a parquet or csv file.\")\n",
        "\n",
        "    return df\n"
      ]
    },
    {
      "cell_type": "code",
      "execution_count": null,
      "metadata": {
        "id": "_43EqyCk26ye"
      },
      "outputs": [],
      "source": [
        "\n",
        "# Define loading data function for the google drive\n",
        "def load_data_gdrive(file_name, file_path, file_id):\n",
        "    \"\"\"\n",
        "    Downloads a file from Google Drive by its file ID and loads a parquet or csv file.\n",
        "\n",
        "    Parameters:\n",
        "    file_name (str): The name to save the file as locally.\n",
        "    file_path (str): The path to the directory where the file should be saved.\n",
        "    file_id (str): The Google Drive file ID.\n",
        "\n",
        "    Returns:\n",
        "    pd.DataFrame: The loaded data as a pandas DataFrame.\n",
        "    \"\"\"\n",
        "    # Google Drive file download URL format\n",
        "    url = f'https://drive.google.com/uc?id={file_id}'\n",
        "\n",
        "    # Full file path for saving\n",
        "    full_file_path = os.path.join(file_path, file_name)\n",
        "\n",
        "    # Download the file\n",
        "    print(f\"Downloading data from Google Drive (File ID: {file_id}) to: {full_file_path}\")\n",
        "    gdown.download(url, full_file_path, quiet=False)\n",
        "\n",
        "    # Check file extension and load accordingly\n",
        "    if file_name.endswith('.parquet'):\n",
        "        print(f\"Loading parquet file: {full_file_path}\")\n",
        "        table = pq.read_table(full_file_path)\n",
        "        df = table.to_pandas()  # Convert to pandas DataFrame\n",
        "    elif file_name.endswith('.csv'):\n",
        "        print(f\"Loading csv file: {full_file_path}\")\n",
        "        df = pd.read_csv(full_file_path)  # Read CSV into pandas DataFrame\n",
        "    else:\n",
        "        raise ValueError(\"Unsupported file format. Please provide a parquet or csv file.\")\n",
        "\n",
        "    return df"
      ]
    },
    {
      "cell_type": "code",
      "execution_count": null,
      "metadata": {
        "id": "E_Olm1mb26yf"
      },
      "outputs": [],
      "source": [
        "# Define saving data function\n",
        "\n",
        "# Example usage:\n",
        "# save_data(df, 'my_data.csv', '/path/to/save')\n",
        "\n",
        "def save_data(df, file_name, file_path):\n",
        "    \"\"\"\n",
        "    Saves a pandas DataFrame as a CSV file to the specified path.\n",
        "\n",
        "    Parameters:\n",
        "    df (pd.DataFrame): The pandas DataFrame to save.\n",
        "    file_name (str): The name of the CSV file to save (should end with .csv).\n",
        "    file_path (str): The path to the directory where the file should be saved.\n",
        "\n",
        "    Returns:\n",
        "    None\n",
        "    \"\"\"\n",
        "    # Full file path\n",
        "    full_file_path = os.path.join(file_path, file_name)\n",
        "\n",
        "    # Check if the file name ends with .csv\n",
        "    if not file_name.endswith('.csv'):\n",
        "        raise ValueError(\"File name should end with '.csv' extension.\")\n",
        "\n",
        "    # Save the DataFrame as CSV\n",
        "    print(f\"Saving DataFrame as a CSV file at: {full_file_path}\")\n",
        "    df.to_csv(full_file_path, index=False)\n",
        "\n",
        "    print(f\"CSV file saved successfully at: {full_file_path}\")"
      ]
    },
    {
      "cell_type": "markdown",
      "metadata": {
        "id": "G26s_diV26yg"
      },
      "source": [
        "0.C Define inspeciton function"
      ]
    },
    {
      "cell_type": "code",
      "execution_count": null,
      "metadata": {
        "id": "nk-4Y7mK26yg"
      },
      "outputs": [],
      "source": [
        "import pandas as pd\n",
        "\n",
        "def inspect_data(df):\n",
        "    \"\"\"\n",
        "    Function to perform an initial data inspection on a given DataFrame.\n",
        "\n",
        "    Parameters:\n",
        "    df (pd.DataFrame): The DataFrame to inspect.\n",
        "\n",
        "    Returns:\n",
        "    None\n",
        "    \"\"\"\n",
        "    print(\"=\"*40)\n",
        "    print(\"🚀 Basic Data Overview\")\n",
        "    print(\"=\"*40)\n",
        "\n",
        "    # Print the shape of the DataFrame (rows, columns)\n",
        "    print(f\"🗂 Shape of the DataFrame: {df.shape[0]} rows, {df.shape[1]} columns\")\n",
        "\n",
        "    # Display the first 5 rows of the dataset\n",
        "    print(\"\\n🔍 First 5 rows of the DataFrame:\")\n",
        "    print(df.head(5))\n",
        "\n",
        "    # Get information about data types, missing values, and memory usage\n",
        "    print(\"\\n📊 DataFrame Information:\")\n",
        "    df.info()\n",
        "\n",
        "    # Show basic statistics for numeric columns\n",
        "    print(\"\\n📈 Summary Statistics of Numeric Columns:\")\n",
        "    print(df.describe())\n",
        "\n",
        "    # Count missing values and display\n",
        "    print(\"\\n❓ Missing Values Overview:\")\n",
        "    missing_df = count_missing_values(df)\n",
        "    print(missing_df)\n",
        "\n",
        "    # Print unique values for categorical and object columns\n",
        "    print(\"\\n🔑 Unique Values in Categorical/Object Columns:\")\n",
        "    print_unique_values(df)\n",
        "\n",
        "def count_missing_values(df):\n",
        "    \"\"\"\n",
        "    Function to count missing values and provide an overview of each column.\n",
        "\n",
        "    Parameters:\n",
        "    df (pd.DataFrame): The DataFrame to inspect.\n",
        "\n",
        "    Returns:\n",
        "    pd.DataFrame: DataFrame with missing value counts, data types, and percentages.\n",
        "    \"\"\"\n",
        "    missing_counts = {}\n",
        "\n",
        "    for col in df.columns:\n",
        "        # Count missing values (NaN)\n",
        "        missing_count = df[col].isna().sum()\n",
        "\n",
        "        # Store the results\n",
        "        missing_counts[col] = {\n",
        "            'Dtype': df[col].dtype.name,\n",
        "            'Missing Count': missing_count,\n",
        "            'Percent Missing': f\"{missing_count / len(df) * 100:.2f}%\"\n",
        "        }\n",
        "\n",
        "    # Convert the results to a DataFrame for easier viewing\n",
        "    result_df = pd.DataFrame(missing_counts).T\n",
        "    result_df = result_df[['Dtype', 'Missing Count', 'Percent Missing']]\n",
        "\n",
        "    return result_df\n",
        "\n",
        "def print_unique_values(df):\n",
        "    \"\"\"\n",
        "    Function to print the number of unique values for categorical and object columns.\n",
        "\n",
        "    Parameters:\n",
        "    df (pd.DataFrame): The DataFrame to inspect.\n",
        "\n",
        "    Returns:\n",
        "    None\n",
        "    \"\"\"\n",
        "    cat_obj_cols = df.select_dtypes(include=['category', 'object']).columns\n",
        "    unique_counts = {}\n",
        "\n",
        "    for col in cat_obj_cols:\n",
        "        unique_counts[col] = df[col].nunique()\n",
        "\n",
        "    if unique_counts:\n",
        "        for col, count in unique_counts.items():\n",
        "            print(f\"Column '{col}' has {count} unique values\")\n",
        "    else:\n",
        "        print(\"No categorical or object columns found.\")\n"
      ]
    },
    {
      "cell_type": "markdown",
      "metadata": {
        "id": "Z2MWOvEH26yi"
      },
      "source": [
        "# 1. Main data pipeline"
      ]
    },
    {
      "cell_type": "code",
      "execution_count": null,
      "metadata": {
        "id": "mA4cdsCQ26yi"
      },
      "outputs": [],
      "source": [
        "# Missing the preprocessing work from andreas\n",
        "Andreas vorschritte von daten satz wie es von der EU seite kommt -> parquet file"
      ]
    },
    {
      "cell_type": "code",
      "execution_count": null,
      "metadata": {
        "id": "18EWNZIA26yi"
      },
      "outputs": [],
      "source": []
    },
    {
      "cell_type": "code",
      "execution_count": null,
      "metadata": {
        "id": "qdbjnzk426yj"
      },
      "outputs": [],
      "source": []
    },
    {
      "cell_type": "code",
      "execution_count": null,
      "metadata": {
        "id": "AseHXK3126yj"
      },
      "outputs": [],
      "source": [
        "# The beginning of each section\n",
        "# Loading the data frame\n",
        "# Inspect the data frame\n",
        "df = load_data_local('EU_all_current_shared.parquet', data_path)\n",
        "\n",
        "inspect_data(df)"
      ]
    },
    {
      "cell_type": "markdown",
      "metadata": {
        "id": "ihtkbCtk26yj"
      },
      "source": [
        "# 1.V Drop all data that does not contain target variable Ewltp (g/km)"
      ]
    },
    {
      "cell_type": "code",
      "execution_count": null,
      "metadata": {
        "id": "YSJJq4jN26yj"
      },
      "outputs": [],
      "source": [
        "# Drop rows where all values in 'Ewltp (g/km)' are NaN\n",
        "df.dropna(subset=['Ewltp (g/km)'], inplace=True)"
      ]
    },
    {
      "cell_type": "markdown",
      "metadata": {
        "id": "7Wn8u2jS26yk"
      },
      "source": [
        "# 1. W Declare all columns which should be deleted/omitted, explain why and delete them"
      ]
    },
    {
      "cell_type": "code",
      "execution_count": null,
      "metadata": {
        "id": "W4bgsKYO26yk"
      },
      "outputs": [],
      "source": [
        "# Delete columns without meaning for the model\n",
        "print(df.columns)\n",
        "\n",
        "# List of columns to be dropped because they are pure car identifiers and have no technical meaning\n",
        "car_identifiers = ['Ve', 'Va', 'T', 'Tan', 'VFN', 'ID']\n",
        "\n",
        "administrative_values = ['Date of registration', 'Status']\n",
        "\n",
        "data_related_columns = ['r', '#identical occurences']\n",
        "\n",
        "brand_related = ['Mp', 'Mh', 'Man', 'MMS']\n",
        "\n",
        "# Different measurement or to much correlation (fuel consumation)\n",
        "correlated_with_target = ['Enedc (g/km)','Ernedc (g/km)', 'Erwltp (g/km)','Fuel consumption ']\n",
        "\n",
        "# Put them together\n",
        "list_columns_drop = car_identifiers + administrative_values + data_related_columns + brand_related + correlated_with_target\n",
        "\n",
        "# Filter only the columns that exist in the DataFrame\n",
        "existing_columns_to_drop = [col for col in list_columns_drop if col in df.columns]\n",
        "\n",
        "# Drop the existing columns\n",
        "if existing_columns_to_drop:\n",
        "    df.drop(existing_columns_to_drop, axis=1, inplace=True)\n",
        "    print(f\"Dropped columns: {existing_columns_to_drop}\")\n",
        "else:\n",
        "    print(\"No columns to drop were found in the DataFrame.\")\n",
        "\n",
        "# Display the updated DataFrame\n",
        "print(df.columns)"
      ]
    },
    {
      "cell_type": "markdown",
      "metadata": {
        "id": "-rA5sD5z26yk"
      },
      "source": [
        "# 1.X Identify electric cars\n",
        "+ identify electric (or hybrid) cars by looking at electric range and electric capacity\n",
        "+ making separate column whichs marks the non electric cars\n",
        "+ fill then all the nan values in electri range and electric capacity with 0 (because they have non, which is equal to 0)\n",
        "+ ANNOTATION: Open for discussion with the Team"
      ]
    },
    {
      "cell_type": "code",
      "execution_count": null,
      "metadata": {
        "id": "mz6TMCS526yl"
      },
      "outputs": [],
      "source": [
        "# If there is a NaN in Electric range or a NaN in z\n",
        "# Create the Non_Electric column: 1 if both Electric range OR z (Wh/km) are NaN, otherwise 0\n",
        "df['Non_Electric_Car'] = (df['Electric range (km)'].isna() & df['z (Wh/km)'].isna()).astype(int)\n",
        "\n",
        "# Fill NaN values in Electric range (km) and z (Wh/km) with 0\n",
        "df['Electric range (km)'].fillna(0, inplace=True)\n",
        "df['z (Wh/km)'].fillna(0, inplace=True)"
      ]
    },
    {
      "cell_type": "code",
      "execution_count": null,
      "metadata": {
        "id": "AssoBl0a26yl"
      },
      "outputs": [],
      "source": [
        "# Display the updated DataFrame\n",
        "count_missing_values(df)"
      ]
    },
    {
      "cell_type": "markdown",
      "metadata": {
        "id": "zejSqtV726yl"
      },
      "source": [
        "# 1.Y Outlier Handling"
      ]
    },
    {
      "cell_type": "markdown",
      "metadata": {
        "id": "1v-Nmh_226yl"
      },
      "source": [
        "+ Input Andreas: Outlier rausschmeißen oder median einfüllen\n",
        "+ Outlier handling function (IQR factor ab dem als Outlier gewertet wird)\n",
        "+ Zusätzlich in die Funktion: ersetzen durch median oder row delete"
      ]
    },
    {
      "cell_type": "markdown",
      "metadata": {
        "id": "cIBjUU0-26ym"
      },
      "source": [
        "# Place gaussian like distribution test here if there is one"
      ]
    },
    {
      "cell_type": "code",
      "execution_count": null,
      "metadata": {
        "id": "MXLXyPQ126ym"
      },
      "outputs": [],
      "source": [
        "# Linear models assume normality of the data.\n",
        "# Instead of performing slow Gaussian-like distribution tests, we will visualize the distributions.\n",
        "\n",
        "# Select only the numerical columns of type float64, float32, and int64\n",
        "numb_columns = df.select_dtypes(include=['float64', 'float32', 'int64']).columns\n",
        "\n",
        "# Plot histograms to visualize the distribution of each numerical column\n",
        "plt.figure(figsize=(15, 10))  # Set the figure size\n",
        "for i, column in enumerate(numb_columns, 1):\n",
        "    plt.subplot(len(numb_columns) // 3 + 1, 3, i)  # Create subplots (3 columns per row)\n",
        "    sns.histplot(df[column], kde=True)  # Plot histogram with a KDE (Kernel Density Estimate)\n",
        "    plt.title(f'Distribution of {column}')  # Add title to each subplot\n",
        "    plt.tight_layout()  # Adjust layout to prevent overlap\n",
        "plt.show()  # Display the plots"
      ]
    },
    {
      "cell_type": "code",
      "execution_count": null,
      "metadata": {
        "id": "TG4wSAff26ym"
      },
      "outputs": [],
      "source": [
        "# Since the near gaussian distribution test is not working I am declaring them by visual:\n",
        "gaussian_cols = ['m (kg)', 'Mt',  'W (mm)', 'At1 (mm)', 'At2 (mm)']\n",
        "non_gaussian_cols = [ 'ec (cm3)', 'ep (KW)']"
      ]
    },
    {
      "cell_type": "code",
      "execution_count": null,
      "metadata": {
        "id": "w_ExMfME26yn"
      },
      "outputs": [],
      "source": [
        "# Assuming gaussian_cols is already defined (e.g., from the Shapiro-Wilk test)\n",
        "# Replace outliers in Gaussian-distributed columns with the median value of those columns.\n",
        "\n",
        "# Calculate the first (Q1) and third (Q3) quartiles for the specified Gaussian columns\n",
        "Q1 = df[gaussian_cols].quantile(0.25)\n",
        "Q3 = df[gaussian_cols].quantile(0.75)\n",
        "IQR = Q3 - Q1  # Calculate the Interquartile Range (IQR)\n",
        "\n",
        "# Define conditions to identify outliers based on the IQR method\n",
        "# An outlier is defined as a value that is less than (Q1 - 1.5 * IQR) or greater than (Q3 + 1.5 * IQR)\n",
        "outlier_condition = ((df[gaussian_cols] < (Q1 - 1.5 * IQR)) |\n",
        "                     (df[gaussian_cols] > (Q3 + 1.5 * IQR)))\n",
        "\n",
        "# Replace outliers with the median value of their respective columns\n",
        "for col in gaussian_cols:\n",
        "    median_value = df[col].median()  # Calculate the median for the current column\n",
        "    df.loc[outlier_condition[col], col] = median_value  # Replace identified outliers with the median\n",
        "\n",
        "# Print the shape of the DataFrame after replacing outliers\n",
        "print(f\"DataFrame shape after replacing outliers in Gaussian columns: {df.shape}\")"
      ]
    },
    {
      "cell_type": "code",
      "execution_count": null,
      "metadata": {
        "id": "fRq1XII326yn"
      },
      "outputs": [],
      "source": [
        "# Function to remove outliers from non-Gaussian distributed columns using the IQR method\n",
        "def iqr_outlier_removal(df):\n",
        "    # Create a copy of the DataFrame to avoid modifying the original\n",
        "    outliers_removed = df.copy()\n",
        "\n",
        "    # Iterate over each column in the DataFrame\n",
        "    for col in df.columns:\n",
        "        if pd.api.types.is_numeric_dtype(df[col]):  # Process only numeric columns\n",
        "            # Calculate the first (Q1) and third (Q3) quartiles\n",
        "            Q1 = df[col].quantile(0.25)\n",
        "            Q3 = df[col].quantile(0.75)\n",
        "            IQR = Q3 - Q1  # Calculate the Interquartile Range (IQR)\n",
        "\n",
        "            # Define lower and upper bounds for outliers\n",
        "            lower_bound = Q1 - 1.5 * IQR\n",
        "            upper_bound = Q3 + 1.5 * IQR\n",
        "\n",
        "            # Cap outliers outside the defined range\n",
        "            outliers_removed[col] = np.where(df[col] < lower_bound, lower_bound,  # Cap lower outliers\n",
        "                                             np.where(df[col] > upper_bound, upper_bound, df[col]))  # Cap upper outliers\n",
        "\n",
        "    return outliers_removed  # Return the modified DataFrame with outliers removed\n",
        "\n",
        "# Apply the function to your DataFrame\n",
        "df = iqr_outlier_removal(df[non_gaussian_cols])  # Create a new DataFrame without outliers"
      ]
    },
    {
      "cell_type": "code",
      "execution_count": null,
      "metadata": {
        "id": "5avlyLVG26yn"
      },
      "outputs": [],
      "source": []
    },
    {
      "cell_type": "code",
      "execution_count": null,
      "metadata": {
        "id": "9cIVTJGK26yn"
      },
      "outputs": [],
      "source": []
    },
    {
      "cell_type": "code",
      "execution_count": null,
      "metadata": {
        "id": "E8e4ulk326yo"
      },
      "outputs": [],
      "source": []
    },
    {
      "cell_type": "code",
      "execution_count": null,
      "metadata": {
        "id": "Zgf_EVTZ26yo"
      },
      "outputs": [],
      "source": []
    },
    {
      "cell_type": "code",
      "execution_count": null,
      "metadata": {
        "id": "_n8Tww4626yo"
      },
      "outputs": [],
      "source": []
    },
    {
      "cell_type": "code",
      "execution_count": null,
      "metadata": {
        "id": "4fjA-0B526yo"
      },
      "outputs": [],
      "source": []
    },
    {
      "cell_type": "code",
      "execution_count": null,
      "metadata": {
        "id": "BXyIl2EX26yp"
      },
      "outputs": [],
      "source": [
        "# Saving data before the next pipline steps\n",
        "# Example usage:\n",
        "# save_data(df, 'my_data.csv', '/path/to/save')\n",
        "\n",
        "save_data(df = df, file_name = 'Data_Preprocessed_Step1.csv', file_path = data_path)"
      ]
    },
    {
      "cell_type": "code",
      "execution_count": null,
      "metadata": {
        "id": "3Zfzsd7N26yp"
      },
      "outputs": [],
      "source": []
    },
    {
      "cell_type": "code",
      "execution_count": null,
      "metadata": {
        "id": "weiHhn0L26yp"
      },
      "outputs": [],
      "source": [
        "\n",
        "# The beginning of each section\n",
        "# Loading the data frame\n",
        "\n",
        "# Inspect the data frame\n",
        "df = load_data_local('EU_all_current_shared.parquet', alex_path)\n",
        "\n",
        "\n",
        "alex_path = r'C:\\Users\\alexa\\Downloads\\aug24_bds_int---co2\\data' #Alex path\n",
        "# Call the function to inspect your DataFrame\n",
        "inspect_data(df)"
      ]
    },
    {
      "cell_type": "markdown",
      "metadata": {
        "id": "igUio9IE26yp"
      },
      "source": [
        "# 2. Regression model (Alex)"
      ]
    },
    {
      "cell_type": "markdown",
      "metadata": {
        "id": "sX4wTAF426yq"
      },
      "source": [
        "0- Visualize the stand of the data set so far (check summary)- save sub-path\n",
        "\n",
        "1- Further Data Preprocessing (if needed after the big one already done):\n",
        "\n",
        "- Handel removal of variables\n",
        "- Handle missing values, if any (impute or drop).\n",
        "- Encode categorical variables.\n",
        "\n",
        "2- Define the Target and Features:\n",
        "\n",
        "- Separate the target variable (dependent variable) and the features (independent variables).\n",
        "\n",
        "3- Train-Test Split:\n",
        "\n",
        "- Split the data into training and testing sets to evaluate model performance on unseen data.\n",
        "\n",
        "- Normalize or standardize the features (for algorithms sensitive to feature scaling, like Ridge or Lasso).\n",
        "\n",
        "4- Fit/Train the Regression Model:\n",
        "\n",
        "- Choose the regression algorithm (Linear Regression, Decision Trees, Random Forest).\n",
        "- Train the model using the training set.\n",
        "\n",
        "5-Evaluate the Model:\n",
        "\n",
        "- Use the test set to make predictions.\n",
        "- Compute evaluation metrics like R-squared and Mean Squared Error (MSE).\n",
        "\n",
        "6- Cross-Validation:\n",
        "\n",
        "- cross-validation to assess the stability of the model across different subsets of the data.\n",
        "\n",
        "7- Interpret Results:\n",
        "\n",
        "- Compare training vs. test set performance.\n",
        "- Check for overfitting or underfitting.\n",
        "\n",
        "8 - Compare performance of different models"
      ]
    },
    {
      "cell_type": "code",
      "execution_count": null,
      "metadata": {
        "id": "gjaXGR_e26yr"
      },
      "outputs": [],
      "source": [
        "# The global preprocessing is not done yet (Sunday, Oct 20), so in order not to be stuck, I need to work with my own data and preprocessing.\n",
        "# Also, I dont get how the download of the most updated dataset is performed above. (the first Andreas one, but loading it up from here. This can be changed later: EU_all_current_shared.parquet)\n",
        "# I will also load here libaries, so that I dont need to run the cells above\n",
        "\n",
        "# import libraries\n",
        "\n",
        "import pandas as pd\n",
        "import numpy as np\n",
        "import matplotlib.pyplot as plt\n",
        "import seaborn as sns\n",
        "\n",
        "# enabling the display of all columns\n",
        "pd.set_option('display.max_rows', None)\n",
        "pd.set_option('display.max_columns', None)\n",
        "\n",
        "# reading the file\n",
        "\n",
        "df=pd.read_parquet(r'C:\\Users\\alexa\\Downloads\\ProjectCO2--no Gibhub\\EU_Alex\\Data\\EU all_current_shared.parquet')\n",
        "\n",
        "# Filter data from 2018 to 2023\n",
        "df = df[df['year'].between(2018, 2023)]\n"
      ]
    },
    {
      "cell_type": "code",
      "execution_count": null,
      "metadata": {
        "id": "Qu2ANvff26yr",
        "outputId": "ff942add-19bd-4a3a-edfc-3902608ceda5"
      },
      "outputs": [
        {
          "name": "stdout",
          "output_type": "stream",
          "text": [
            "                      Data Type  Unique Values  Missing Values (%)\n",
            "De                      float32            NaN           97.152324\n",
            "ech                    category           36.0           96.064264\n",
            "RLFI                   category         1544.0           93.401949\n",
            "Electric range (km)     float32            NaN           90.456573\n",
            "Vf                      float32            NaN           90.035902\n",
            "z (Wh/km)               float32            NaN           88.790867\n",
            "Ernedc (g/km)           float32            NaN           84.529493\n",
            "Erwltp (g/km)           float32            NaN           75.248403\n",
            "Fuel consumption        float32            NaN           65.376148\n",
            "IT                     category         1864.0           58.082522\n",
            "Date of registration   category         1095.0           54.366251\n",
            "MMS                    category         1607.0           48.783678\n",
            "Enedc (g/km)            float32            NaN           44.847890\n",
            "VFN                    category        29048.0           26.615180\n",
            "At2 (mm)                float32            NaN           18.305667\n",
            "At1 (mm)                float32            NaN           18.196410\n",
            "W (mm)                  float32            NaN           16.045285\n",
            "Mt                      float32            NaN            7.400086\n",
            "Mp                     category           35.0            5.658049\n",
            "Ewltp (g/km)            float32            NaN            5.210578\n",
            "ec (cm3)                float32            NaN            4.625855\n",
            "ep (KW)                 float32            NaN            4.240944\n",
            "Ve                     category        95293.0            0.948142\n",
            "Cr                     category            2.0            0.618678\n",
            "Tan                    category        22638.0            0.426048\n",
            "Va                     category        18396.0            0.401418\n",
            "Cn                     category        36790.0            0.306428\n",
            "Ct                     category            9.0            0.103305\n",
            "Mk                     category         1374.0            0.102677\n",
            "T                      category         8709.0            0.070622\n",
            "m (kg)                  float32            NaN            0.032387\n",
            "Ft                     category            9.0            0.015052\n",
            "Fm                     category            6.0            0.006075\n",
            "Man                    category          222.0            0.000009\n",
            "Status                 category            1.0            0.000000\n",
            "Mh                     category          160.0            0.000000\n",
            "ID                      float32            NaN            0.000000\n",
            "Country                category           30.0            0.000000\n",
            "r                       float32            NaN            0.000000\n",
            "year                    float32            NaN            0.000000\n",
            "#identical occurences   float32            NaN            0.000000\n",
            "(11473813, 41)\n"
          ]
        }
      ],
      "source": [
        "# Check summary\n",
        "\n",
        "# enabling the display of all columns\n",
        "pd.set_option('display.max_rows', None)\n",
        "pd.set_option('display.max_columns', None)\n",
        "\n",
        "# Get the data types of each column\n",
        "data_types = df.dtypes\n",
        "\n",
        "# Get the number of unique values for each categorical column\n",
        "unique_values = df.select_dtypes(include=['int64', 'float64', 'object', 'category', 'bool']).nunique()\n",
        "\n",
        "# Get the percentage of missing values for each column\n",
        "missing_values = df.isnull().mean() * 100\n",
        "\n",
        "# Combine the information into a DataFrame\n",
        "summary_df = pd.DataFrame({\n",
        "    'Data Type': data_types,\n",
        "    'Unique Values': unique_values,\n",
        "    'Missing Values (%)': missing_values\n",
        "})\n",
        "\n",
        "# Sort the summary DataFrame by the percentage of missing values in descending order\n",
        "summary_df = summary_df.sort_values(by='Missing Values (%)', ascending=False)\n",
        "\n",
        "# Print the summary DataFrame\n",
        "print(summary_df)\n",
        "\n",
        "# Display the cleaned DataFrame shape\n",
        "print(df.shape)"
      ]
    },
    {
      "cell_type": "markdown",
      "metadata": {
        "id": "TObdl_jF26yu"
      },
      "source": [
        "Colums to exclude from the analysis: De, ech, RLFI, Vf, Ct, Cn, Cr, IT, Non_Electric_Car, Electric range (km),z (Wh/km)\n",
        "\n",
        "- Deviation factor (DE): In order to understand the DE, one has first to understand the context:\n",
        "\n",
        "** CO2MPAS is a vehicle simulation model for the calculation of CO2 emissions, energy, and fuel consumption from passenger cars and light commercial vehicles. It uses experimental data, retrieved from chassis dyno or on-road tests, to simulate the operation of vehicles under different operating conditions.The CO2MPAS model is able to provide the difference in CO2 emissions under the two different test procedures.\n",
        "\n",
        "The WLTP is the new and more realistic procedure for the emission type-approval of light duty vehicles which replaces the old and outdated NEDC procedure starting from 2017. The use CO2MPAS for the purpose of correlating CO2 emissions determined on the NEDC and the WLTP is set out in Commission Implementing Regulations (EU) 2017/1152 (light commercial vehicles) and 2017/1153 (passenger cars).\n",
        "\n",
        "The correlation of CO2 emission values is required to ensure a transition from NEDC based CO2 emission targets to targets based on WLTP emissions under Regulation (EU) 2019/631 setting out CO2 emission performance standards for light duty vehicles.\n",
        "\n",
        "In order to ensure that the correlated NEDC values are correct, 10% of the vehicle interpolation families that are subject to a CO2MPAS simulation are randomly selected for a physical vehicle test, using the “DICE” module of\n",
        "CO2MPAS. For each such test, a deviation factor (De) should be calculated and recorded in the type approval certificate and the certificate of conformity.\n",
        "\n",
        "** The De expresses the deviation between the CO2 emissions determined through the physical vehicle test and the CO2 emissions declared by the manufacturer in view of the CO2MPAS simulation.\n",
        "\n",
        "If, for one or more interpolation families of a manufacturer, the De is higher than 0.04, this triggers the calculation of a correction factor, by which the average specific CO2 emissions of the manufacturer will be multiplied.\n",
        "\n",
        "Nearly all values are missing.\n",
        "\n",
        "- ech und RLFI: Meaning is not clear and nearly all values missing.\n",
        "\n",
        "- Verification factor (Vf): The application of a correction factor may also be triggered by the presence of a verification factor (Vf) of 1 for one or more interpolation families of a manufacturer. The Vf is recorded\n",
        "as “1” in the type approval certificate if the type approval authority finds that the input data for the correlation procedure as reported by the manufacturer were incorrect or where it has justified reasons to deem the CO2 value declared by the manufacturer to be too low. - Most of verification factors since 2018 are 1\n",
        "\n",
        "\n",
        "- Commercial name(Cn): A vehicle identifier. This is a categorical variable. It is interesting that in previous analyses the same car sold accross different countries show significant difference in Ewltp emissions. However,\n",
        "the data quality is low, and with nearly 30.000 uniques values, it would pose a challenge for encoding.\n",
        "\n",
        "- Category of vehicle type approved (Ct) and Category of vehicle registered (Cr): Here the Cr superseeds Ct. But it is irrelevant at the end, since ALL the data set is of the category M1 (light passenger vehicles )  \n",
        "\n",
        "\n",
        "                              Columns to be temporarily excluded for modeling exercise (other team members may want to work with this part):\n",
        "\n",
        "IT: Code for the use of eco-innovation technologies. Types are Lights,Alternators, Thermal,Kinetic, Solar, etc (see pager Eco-Innovations, 2018). However, the coding is unclear.(Erwltp (g/km) was already removed by Tillman/ Andreas)\n",
        "\n",
        "Mk: Make\n",
        "Z: Electric energy consumption\n",
        "\n",
        "___ NOT SURE WHERE THIS IS COMING FROM\n",
        "\n",
        "- Non_Electric_Car: only one unique value."
      ]
    },
    {
      "cell_type": "code",
      "execution_count": null,
      "metadata": {
        "id": "y8EzrQmW26yu"
      },
      "outputs": [],
      "source": [
        "# List of columns to be exclude from analysis\n",
        "\n",
        "columns_to_remove = [\n",
        "    'De',\n",
        "    'ech',\n",
        "    'RLFI',\n",
        "    'Electric range (km)',\n",
        "    'Vf',\n",
        "    'z (Wh/km)',\n",
        "    'Ernedc (g/km)',\n",
        "    'Erwltp (g/km)',\n",
        "    'IT',\n",
        "    'Date of registration',\n",
        "    'MMS',\n",
        "    'Enedc (g/km)',\n",
        "    'VFN',\n",
        "    'Mp',\n",
        "    'Ve',\n",
        "    'Cr',\n",
        "    'Cr',\n",
        "    'Tan',\n",
        "    'Va',\n",
        "    'Cn',\n",
        "    'Ct',\n",
        "    'Mk',\n",
        "    'T',\n",
        "    'Man',\n",
        "    'Status',\n",
        "    'ID',\n",
        "    'r',\n",
        "    '#identical occurences'\n",
        "\n",
        "]\n",
        "\n",
        "# Exclude\n",
        "df_reg = df.drop(columns=columns_to_remove, errors='ignore')\n"
      ]
    },
    {
      "cell_type": "code",
      "execution_count": null,
      "metadata": {
        "id": "40u5wbyo26yv",
        "outputId": "64bbd948-a69d-40a4-bfcd-8dea33434e24"
      },
      "outputs": [
        {
          "name": "stdout",
          "output_type": "stream",
          "text": [
            "                  Data Type  Unique Values  Missing Values (%)\n",
            "Fuel consumption    float32            NaN           65.376148\n",
            "At2 (mm)            float32            NaN           18.305667\n",
            "At1 (mm)            float32            NaN           18.196410\n",
            "W (mm)              float32            NaN           16.045285\n",
            "Mt                  float32            NaN            7.400086\n",
            "Ewltp (g/km)        float32            NaN            5.210578\n",
            "ec (cm3)            float32            NaN            4.625855\n",
            "ep (KW)             float32            NaN            4.240944\n",
            "m (kg)              float32            NaN            0.032387\n",
            "Ft                 category            9.0            0.015052\n",
            "Fm                 category            6.0            0.006075\n",
            "Country            category           30.0            0.000000\n",
            "Mh                 category          160.0            0.000000\n",
            "year                float32            NaN            0.000000\n"
          ]
        },
        {
          "data": {
            "text/plain": [
              "(11473813, 14)"
            ]
          },
          "execution_count": 10,
          "metadata": {},
          "output_type": "execute_result"
        }
      ],
      "source": [
        "# Check summary\n",
        "\n",
        "# Get the data types of each column\n",
        "data_types = df_reg.dtypes\n",
        "\n",
        "# Get the number of unique values for each categorical column\n",
        "unique_values = df_reg.select_dtypes(include=['int64', 'float64', 'object', 'category', 'bool']).nunique()\n",
        "\n",
        "# Get the percentage of missing values for each column\n",
        "missing_values = df_reg.isnull().mean() * 100\n",
        "\n",
        "# Combine the information into a DataFrame\n",
        "summary_df_reg = pd.DataFrame({\n",
        "    'Data Type': data_types,\n",
        "    'Unique Values': unique_values,\n",
        "    'Missing Values (%)': missing_values\n",
        "})\n",
        "\n",
        "# Sort the summary DataFrame by the percentage of missing values in descending order\n",
        "summary_df_reg = summary_df_reg.sort_values(by='Missing Values (%)', ascending=False)\n",
        "\n",
        "# Print the summary DataFrame\n",
        "print(summary_df_reg)\n",
        "\n",
        "# Show the shape of the original DataFrame\n",
        "df_reg.shape"
      ]
    },
    {
      "cell_type": "code",
      "execution_count": null,
      "metadata": {
        "id": "IBlmakJ526yv"
      },
      "outputs": [],
      "source": [
        "# Dealing with missing values\n",
        "\n",
        "# W, At1 and At2 follow roughly a normal distribution. Ergo missing values can be replaced with the mean\n",
        "# Ec, Ep, Fuel consumption are skewed. Missing values will be replace with the median.\n",
        "\n",
        "df_reg['W (mm)'] = df_reg['W (mm)'].fillna(df_reg['W (mm)'].mean())\n",
        "df_reg['At1 (mm)'] = df_reg['At1 (mm)'].fillna(df_reg['At1 (mm)'].mean())\n",
        "df_reg['At2 (mm)'] = df_reg['At2 (mm)'].fillna(df_reg['At2 (mm)'].mean())\n",
        "\n",
        "# Removing rows with missing values\n",
        "\n",
        "# List of columns to check for missing values\n",
        "columns_to_check = ['ec (cm3)', 'ep (KW)', 'Mt', 'm (kg)', 'Fm', 'Ft', 'Fuel consumption ', 'Ewltp (g/km)']\n",
        "\n",
        "# Remove rows with missing values in specified columns\n",
        "df_reg = df_reg.dropna(subset=columns_to_check)"
      ]
    },
    {
      "cell_type": "code",
      "execution_count": null,
      "metadata": {
        "id": "YfHhGbmS26yw",
        "outputId": "878b0ca0-6b2f-4d57-cf55-5f6e41237cf5"
      },
      "outputs": [
        {
          "name": "stdout",
          "output_type": "stream",
          "text": [
            "                  Data Type  Unique Values  Missing Values (%)\n",
            "Country            category             26                 0.0\n",
            "Mh                 category             82                 0.0\n",
            "m (kg)              float32           2063                 0.0\n",
            "Mt                  float32           2191                 0.0\n",
            "Ewltp (g/km)        float32            400                 0.0\n",
            "W (mm)              float32            662                 0.0\n",
            "At1 (mm)            float32           1301                 0.0\n",
            "At2 (mm)            float32           1303                 0.0\n",
            "Ft                 category              7                 0.0\n",
            "Fm                 category              5                 0.0\n",
            "ec (cm3)            float32            166                 0.0\n",
            "ep (KW)             float32            291                 0.0\n",
            "year                float32              3                 0.0\n",
            "Fuel consumption    float32            372                 0.0\n"
          ]
        },
        {
          "data": {
            "text/plain": [
              "(3838945, 14)"
            ]
          },
          "execution_count": 12,
          "metadata": {},
          "output_type": "execute_result"
        }
      ],
      "source": [
        "# Get the data types of each column\n",
        "data_types = df_reg.dtypes\n",
        "\n",
        "# Get the number of unique values for each categorical column\n",
        "unique_values = df_reg.select_dtypes(include=['int64', 'float64', 'float32','object', 'category', 'bool']).nunique()\n",
        "\n",
        "# Get the percentage of missing values for each column\n",
        "missing_values = df_reg.isnull().mean() * 100\n",
        "\n",
        "# Combine the information into a DataFrame\n",
        "summary_df_reg = pd.DataFrame({\n",
        "    'Data Type': data_types,\n",
        "    'Unique Values': unique_values,\n",
        "    'Missing Values (%)': missing_values\n",
        "})\n",
        "\n",
        "# Sort the summary DataFrame by the percentage of missing values in descending order\n",
        "summary_df_reg = summary_df_reg.sort_values(by='Missing Values (%)', ascending=False)\n",
        "\n",
        "# Print the summary DataFrame\n",
        "print(summary_df_reg)\n",
        "\n",
        "# Show the shape of the original DataFrame\n",
        "df_reg.shape"
      ]
    },
    {
      "cell_type": "markdown",
      "metadata": {
        "id": "jtTbkMEd26yw"
      },
      "source": [
        "Now that some columns were removed and missing values have been dealt with, let's check categorical columns for unique values"
      ]
    },
    {
      "cell_type": "code",
      "execution_count": null,
      "metadata": {
        "id": "EvApXUan26yw",
        "outputId": "a1463418-2df4-485a-927a-2b0ede424722"
      },
      "outputs": [
        {
          "name": "stdout",
          "output_type": "stream",
          "text": [
            "Unique values in 'Fm': ['M', 'P', 'B', 'H', 'F']\n",
            "Unique values in 'Ft': ['PETROL', 'DIESEL', 'PETROL/ELECTRIC', 'LPG', 'DIESEL/ELECTRIC', 'NG-BIOMETHANE', 'E85']\n"
          ]
        }
      ],
      "source": [
        "# From df_reg\n",
        "categorical_cols = ['Fm', 'Ft']\n",
        "\n",
        "# Loop through each categorical column and print unique values\n",
        "for col in categorical_cols:\n",
        "    unique_values = df_reg[col].unique()\n",
        "    print(f\"Unique values in '{col}': {list(unique_values)}\")\n",
        "\n",
        "# Meaning Ft\n",
        "\n",
        "# E85: an ethanol fuel blend of 85% ethanol fuel and 15% gasoline or other hydrocarbon by volume\n",
        "# LPG: liquified petroleum gas\n",
        "# NG: Natural Gas\n",
        "\n",
        "# Meaning Fm\n",
        "# M = Monofuel\n",
        "# P = Off vehicle charging hybrid electric vehicles\n",
        "# B = Bi-fuel vehicles (two separate fuel storage systems)\n",
        "# H = Not-off vehicle charging hybrid vehicles\n",
        "# F = Flex-fuel vehicles\n"
      ]
    },
    {
      "cell_type": "code",
      "execution_count": null,
      "metadata": {
        "id": "l5pWstWb26yx",
        "outputId": "428484b0-4860-4b6f-a506-32c9e7de9893"
      },
      "outputs": [
        {
          "name": "stdout",
          "output_type": "stream",
          "text": [
            "Unique values in 'Country': ['DE', 'PL', 'FR', 'BE', 'IE', 'NO', 'HR', 'LV', 'IT', 'CZ', 'SI', 'EE', 'BG', 'ES', 'HU', 'NL', 'FI', 'LT', 'AT', 'LU', 'PT', 'SK', 'SE', 'IS', 'MT', 'GR']\n",
            "Unique values in 'Mh': ['PSA', 'AA-IVA', 'AUDI AG', 'RENAULT', 'SKODA', 'FORD WERKE GMBH', 'TOYOTA', 'BMW AG', 'HYUNDAI', 'MAZDA', 'SEAT', 'HYUNDAI CZECH', 'KIA SLOVAKIA', 'AUTOMOBILES PEUGEOT', 'VOLKSWAGEN', 'VOLVO', 'MAGYAR SUZUKI', 'FIAT GROUP', 'KIA', 'SUZUKI MOTOR CORPORATION', 'NISSAN', 'AUDI SPORT', 'AUTOMOBILES CITROEN', 'MERCEDES-BENZ AG', 'ALFA ROMEO', 'DACIA', 'JAGUAR LAND ROVER LIMITED', 'HONDA MOTOR CO', 'MITSUBISHI MOTORS THAILAND', 'OPEL AUTOMOBILE', 'MITSUBISHI MOTORS CORPORATION', 'HYUNDAI ASSAN', 'BMW GMBH', 'PORSCHE', 'CHRYSLER', 'SUBARU', 'FORD MOTOR COMPANY', 'SSANGYONG', 'MAZDA EUROPE', 'BENTLEY', 'DUPLICATE', 'MCLAREN', 'MASERATI', 'LAMBORGHINI', 'ALPINA', 'ALPINE', 'MERCEDES AMG', 'FERRARI', 'ROLLS ROYCE', 'ASTON MARTIN', 'AA-NSS', 'DFSK', 'LOTUS', 'AUDI HUNGARIA', 'CATERHAM', 'NISSAN AUTOMOTIVE EUROPE', 'CNG TECHNIK', 'SAIC MOTOR CORPORATION', 'MORGAN', 'GEELY', 'GENERAL MOTORS HOLDINGS', 'LEVC', 'BUGATTI', 'FORD MOTOR AUSTRALIA', 'RENAULT TRUCKS', 'MAN', 'TOYOTA MOTOR CORPORATION', 'OUT OF SCOPE', 'SECMA', 'ROLLS-ROYCE', 'DR AUTOMOBILES', 'DALLARA', 'DONKERVOORT', 'STELLANTIS AUTO', 'STELLANTIS EUROPE', 'KG MOBILITY', 'INEOS', 'KTM', 'GREAT WALL MOTOR', 'UNKNOWN', 'BRILLIANCE SHINERAY', 'IVECO']\n"
          ]
        }
      ],
      "source": [
        "# From df_reg\n",
        "categorical_cols = ['Country', 'Mh']\n",
        "\n",
        "# Loop through each categorical column and print unique values\n",
        "for col in categorical_cols:\n",
        "    unique_values = df_reg[col].unique()\n",
        "    print(f\"Unique values in '{col}': {list(unique_values)}\")"
      ]
    },
    {
      "cell_type": "markdown",
      "metadata": {
        "id": "L8RS3tNt26yx"
      },
      "source": [
        "Let's handle first countries\n",
        "\n"
      ]
    },
    {
      "cell_type": "code",
      "execution_count": null,
      "metadata": {
        "id": "97M4StxP26yx",
        "outputId": "e3a698f1-e342-49ff-ae7b-8872e5822bbe"
      },
      "outputs": [
        {
          "name": "stdout",
          "output_type": "stream",
          "text": [
            "Country\n",
            "DE    42.234833\n",
            "FR    53.281722\n",
            "IT    62.449527\n",
            "BE    69.811602\n",
            "PL    76.919544\n",
            "Name: count, dtype: float64\n"
          ]
        },
        {
          "data": {
            "image/png": "[encoded data removed]",
            "text/plain": [
              "<Figure size 1000x600 with 1 Axes>"
            ]
          },
          "metadata": {},
          "output_type": "display_data"
        }
      ],
      "source": [
        "# Check Which Countries Form 80% of the Data\n",
        "# Calculate the frequency of each country\n",
        "\n",
        "country_counts = df_reg['Country'].value_counts()\n",
        "\n",
        "# Calculate the cumulative percentage of entries for each country\n",
        "country_percentage = (country_counts / country_counts.sum()).cumsum() * 100\n",
        "\n",
        "# Filter to get the countries that form the first 80% of entries\n",
        "countries_80_percent = country_percentage[country_percentage <= 80]\n",
        "\n",
        "# Print the countries and their cumulative percentages\n",
        "print(countries_80_percent)\n",
        "\n",
        "# Visualize the cumulative distribution of countries\n",
        "plt.figure(figsize=(10, 6))\n",
        "plt.plot(country_percentage.index, country_percentage.values, marker='o', linestyle='-')\n",
        "plt.axhline(80, color='r', linestyle='--', label='80% threshold')\n",
        "plt.xticks(rotation=45)\n",
        "plt.title('Cumulative Distribution of Country Entries')\n",
        "plt.xlabel('Country')\n",
        "plt.ylabel('Cumulative Percentage')\n",
        "plt.legend()\n",
        "plt.grid(True)\n",
        "plt.tight_layout()\n",
        "plt.show()\n",
        "\n",
        "#We can retain the countries forming 80% of the data and drop the rest. Thereby reducing significantly the number of extra columns that encoding will produce"
      ]
    },
    {
      "cell_type": "code",
      "execution_count": null,
      "metadata": {
        "id": "Gsh3yZFs26yy",
        "outputId": "ed5661ae-a5f8-436d-c720-f0118da26e1b"
      },
      "outputs": [
        {
          "name": "stdout",
          "output_type": "stream",
          "text": [
            "Shape of the filtered DataFrame: (3111097, 14)\n"
          ]
        }
      ],
      "source": [
        "# List of countries to retain\n",
        "countries_to_keep = ['DE', 'FR', 'IT', 'BE', 'PL', 'CZ']\n",
        "\n",
        "# Filter the DataFrame to retain only rows where 'Country' is in the list of countries_to_keep\n",
        "df_regC = df_reg[df_reg['Country'].isin(countries_to_keep)]\n",
        "\n",
        "# Check the shape of the filtered DataFrame to ensure the filtering worked\n",
        "print(\"Shape of the filtered DataFrame:\", df_regC.shape)"
      ]
    },
    {
      "cell_type": "code",
      "execution_count": null,
      "metadata": {
        "id": "yWBZ8IVd26yy",
        "outputId": "597b502f-1c2e-47c1-9a79-3bf271c36da1"
      },
      "outputs": [
        {
          "name": "stdout",
          "output_type": "stream",
          "text": [
            "                  Data Type  Unique Values  Missing Values (%)\n",
            "Country            category              6                 0.0\n",
            "Mh                 category             77                 0.0\n",
            "m (kg)              float32           2016                 0.0\n",
            "Mt                  float32           2149                 0.0\n",
            "Ewltp (g/km)        float32            391                 0.0\n",
            "W (mm)              float32            629                 0.0\n",
            "At1 (mm)            float32           1300                 0.0\n",
            "At2 (mm)            float32           1301                 0.0\n",
            "Ft                 category              7                 0.0\n",
            "Fm                 category              5                 0.0\n",
            "ec (cm3)            float32            134                 0.0\n",
            "ep (KW)             float32            261                 0.0\n",
            "year                float32              3                 0.0\n",
            "Fuel consumption    float32            245                 0.0\n"
          ]
        },
        {
          "data": {
            "text/plain": [
              "(3111097, 14)"
            ]
          },
          "execution_count": 17,
          "metadata": {},
          "output_type": "execute_result"
        }
      ],
      "source": [
        "# Check that changes were done via summary\n",
        "\n",
        "# Get the data types of each column\n",
        "data_types = df_regC.dtypes\n",
        "\n",
        "# Get the number of unique values for each categorical column\n",
        "unique_values = df_regC.select_dtypes(include=['int64', 'float64', 'float32','object', 'category', 'bool']).nunique()\n",
        "\n",
        "# Get the percentage of missing values for each column\n",
        "missing_values = df_regC.isnull().mean() * 100\n",
        "\n",
        "# Combine the information into a DataFrame\n",
        "summary_df_regC = pd.DataFrame({\n",
        "    'Data Type': data_types,\n",
        "    'Unique Values': unique_values,\n",
        "    'Missing Values (%)': missing_values\n",
        "})\n",
        "\n",
        "# Sort the summary DataFrame by the percentage of missing values in descending order\n",
        "summary_df_regC = summary_df_regC.sort_values(by='Missing Values (%)', ascending=False)\n",
        "\n",
        "# Print the summary DataFrame\n",
        "print(summary_df_regC)\n",
        "\n",
        "# Show the shape of the original DataFrame\n",
        "df_regC.shape"
      ]
    },
    {
      "cell_type": "markdown",
      "metadata": {
        "id": "g4oJiP1B26yz"
      },
      "source": [
        "Let'handel Mh (Manufacturer): The official name give by the EU contains subsidiaries and regional entities, i.a., MAGYAR SUZUKI, SUZUKI THAILAND, and MARUTI.\n",
        "I will try to gropu subsidiaries, divisions, or regional branches under their parent company name, so as to reduce noise and make the data more consistent. This approach should simplify the dataset and helps avoid biases introduced by having the same entity represented under multiple names."
      ]
    },
    {
      "cell_type": "code",
      "execution_count": null,
      "metadata": {
        "id": "x_cQoYOX26yz",
        "outputId": "f7da1ca3-6ee6-479c-9740-495dcf7b4139"
      },
      "outputs": [
        {
          "name": "stderr",
          "output_type": "stream",
          "text": [
            "C:\\Users\\alexa\\AppData\\Local\\Temp\\ipykernel_14856\\3086648816.py:46: FutureWarning: The behavior of Series.replace (and DataFrame.replace) with CategoricalDtype is deprecated. In a future version, replace will only be used for cases that preserve the categories. To change the categories, use ser.cat.rename_categories instead.\n",
            "  df_regC['Mh'] = df_regC['Mh'].replace(automaker_mapping)\n",
            "C:\\Users\\alexa\\AppData\\Local\\Temp\\ipykernel_14856\\3086648816.py:46: SettingWithCopyWarning: \n",
            "A value is trying to be set on a copy of a slice from a DataFrame.\n",
            "Try using .loc[row_indexer,col_indexer] = value instead\n",
            "\n",
            "See the caveats in the documentation: https://pandas.pydata.org/pandas-docs/stable/user_guide/indexing.html#returning-a-view-versus-a-copy\n",
            "  df_regC['Mh'] = df_regC['Mh'].replace(automaker_mapping)\n"
          ]
        }
      ],
      "source": [
        "# Mapping\n",
        "\n",
        "automaker_mapping = {\n",
        "    'FORD WERKE GMBH': 'ford',\n",
        "    'FORD INDIA': 'ford',\n",
        "    'FORD MOTOR COMPANY': 'ford',\n",
        "    'FORD MOTOR AUSTRALIA': 'ford',\n",
        "    'BMW AG': 'BMW',\n",
        "    'BMW GMBH': 'BMW',\n",
        "    'AUDI AG': 'audi',\n",
        "    'AUDI SPORT': 'audi',\n",
        "    'AUDI HUNGARIA': 'audi',\n",
        "    'SUZUKI MOTOR CORPORATION': 'suzuki',\n",
        "    'MAGYAR SUZUKI': 'suzuki',\n",
        "    'SUZUKI THAILAND': 'suzuki',\n",
        "    'MARUTI SUZUKI': 'suzuki',\n",
        "    'TOYOTA': 'toyota',\n",
        "    'TOYOTA MOTOR CORPORATION': 'toyota',\n",
        "    'TOYOTA GAZOO RACING': 'toyota',\n",
        "    'ROLLS ROYCE': 'rolls-royce',\n",
        "    'ROLLS-ROYCE': 'rolls-royce',\n",
        "    'STELLANTIS AUTO': 'stellantis',\n",
        "    'STELLANTIS EUROPE': 'stellantis',\n",
        "    'MAZDA': 'mazda',\n",
        "    'MAZDA EUROPE': 'mazda',\n",
        "    'HYUNDAI' : 'hyundai',\n",
        "    'HYUNDAI CZECH' : 'hyundai',\n",
        "    'HYUNDAI EUROPE': 'hyundai',\n",
        "    'HONDA UK': 'honda',\n",
        "    'HONDA MOTOR CO': 'honda',\n",
        "    'HONDA TURKIYE': 'honda',\n",
        "    'HYUNDAI ASSAN':'hyundai',\n",
        "    'MITSUBISHI MOTORS CORPORATION':'mitsubishi',\n",
        "    'MITSUBISHI MOTORS THAILAND': 'mitshubishi',\n",
        "    'MERCEDES-BENZ AG' : 'mercedes',\n",
        "    'MERCEDES AMG': 'mercedes',\n",
        "    'KIA SLOVAKIA': 'kia',\n",
        "    'KIA': 'kia',\n",
        "    'OPEL': 'opel',\n",
        "    'OPEL AUTOMOBILE': 'opel',\n",
        "    'NISSAN': 'nissan',\n",
        "    'NISSAN AUTOMOTIVE EUROPE': 'nissan'}\n",
        "\n",
        "\n",
        "# Apply the mapping\n",
        "df_regC['Mh'] = df_regC['Mh'].replace(automaker_mapping)\n"
      ]
    },
    {
      "cell_type": "code",
      "execution_count": null,
      "metadata": {
        "id": "q-jKGX5I26yz",
        "outputId": "1395a10a-b0b9-48fb-b047-94e9e9ca06c5"
      },
      "outputs": [
        {
          "name": "stderr",
          "output_type": "stream",
          "text": [
            "C:\\Users\\alexa\\AppData\\Local\\Temp\\ipykernel_14856\\2782229607.py:2: UserWarning: Boolean Series key will be reindexed to match DataFrame index.\n",
            "  unmapped_automakers = df_regC[~df['Mh'].isin(automaker_mapping.values())]['Mh'].unique()\n"
          ]
        },
        {
          "name": "stdout",
          "output_type": "stream",
          "text": [
            "['PSA', 'AA-IVA', 'audi', 'RENAULT', 'SKODA', ..., 'KG MOBILITY', 'INEOS', 'KTM', 'GREAT WALL MOTOR', 'OUT OF SCOPE']\n",
            "Length: 62\n",
            "Categories (238, object): ['AA-IVA', 'AA-NSS', 'AC CARS', 'ADIDOR', ..., 'ZHEJIANG HAOQING', 'ZOTYE HOLDING NG GROUP', 'ZOYTE', 'duplicate']\n"
          ]
        }
      ],
      "source": [
        "# Find any automakers that are not in the mapping\n",
        "unmapped_automakers = df_regC[~df['Mh'].isin(automaker_mapping.values())]['Mh'].unique()\n",
        "print(unmapped_automakers)"
      ]
    },
    {
      "cell_type": "code",
      "execution_count": null,
      "metadata": {
        "id": "9yOloVTv26y0",
        "outputId": "c4b2c126-5cc0-41fa-d2aa-6f777c260c3a"
      },
      "outputs": [
        {
          "data": {
            "image/png": "[encoded data removed]",
            "text/plain": [
              "<Figure size 1200x600 with 1 Axes>"
            ]
          },
          "metadata": {},
          "output_type": "display_data"
        }
      ],
      "source": [
        "#Before making further mappings, let's check the the top 30 automakers by proportion\n",
        "automaker_proportions = df_regC['Mh'].value_counts(normalize=True).head(30)\n",
        "\n",
        "# Create a bar plot for the top 30 automakers\n",
        "plt.figure(figsize=(12, 6))\n",
        "automaker_proportions.plot(kind='bar')\n",
        "plt.title('Proportion of Top 30 Automakers')\n",
        "plt.xlabel('Automaker')\n",
        "plt.ylabel('Proportion')\n",
        "plt.xticks(rotation=90)\n",
        "plt.show()"
      ]
    },
    {
      "cell_type": "code",
      "execution_count": null,
      "metadata": {
        "id": "lI_NfSrl26y0",
        "outputId": "d6d6c5a5-1bba-4811-9b98-471b9a4fa2bd"
      },
      "outputs": [
        {
          "name": "stdout",
          "output_type": "stream",
          "text": [
            "Mh\n",
            "VOLKSWAGEN    16.553173\n",
            "BMW           32.708362\n",
            "mercedes      47.417612\n",
            "audi          61.272422\n",
            "SKODA         71.187691\n",
            "SEAT          75.431955\n",
            "RENAULT       78.315232\n",
            "Name: count, dtype: float64\n"
          ]
        },
        {
          "data": {
            "image/png": "[encoded data removed]",
            "text/plain": [
              "<Figure size 1000x600 with 1 Axes>"
            ]
          },
          "metadata": {},
          "output_type": "display_data"
        },
        {
          "data": {
            "text/plain": [
              "(3111097, 14)"
            ]
          },
          "execution_count": 21,
          "metadata": {},
          "output_type": "execute_result"
        }
      ],
      "source": [
        "# Now let's check the importance of the automakers that form 80% of the Data\n",
        "# Calculate the frequency of each country\n",
        "\n",
        "automaker_counts = df_regC['Mh'].value_counts().head(30)\n",
        "\n",
        "# Calculate the cumulative percentage of entries for each country\n",
        "automaker_percentage = (automaker_counts/ automaker_counts.sum()).cumsum() * 100\n",
        "\n",
        "# Filter to get the countries that form the first 80% of entries\n",
        "automaker_80_percent = automaker_percentage[automaker_percentage <= 80]\n",
        "\n",
        "# Print the countries and their cumulative percentages\n",
        "print(automaker_80_percent)\n",
        "\n",
        "# Visualize the cumulative distribution of countries\n",
        "plt.figure(figsize=(10, 6))\n",
        "plt.plot(automaker_percentage.index, automaker_percentage.values, marker='o', linestyle='-')\n",
        "plt.axhline(80, color='r', linestyle='--', label='80% threshold')\n",
        "plt.xticks(rotation=45)\n",
        "plt.title('Cumulative Distribution of automaker entries')\n",
        "plt.xlabel('automaker')\n",
        "plt.ylabel('Cumulative Percentage')\n",
        "plt.legend()\n",
        "plt.grid(True)\n",
        "plt.tight_layout()\n",
        "plt.show()\n",
        "\n",
        "#We can retain the am forming 80% of the data and drop the rest. Thereby reducing significantly the number of extra columns that encoding will produce\n",
        "\n",
        "df_regC.shape"
      ]
    },
    {
      "cell_type": "code",
      "execution_count": null,
      "metadata": {
        "id": "cQPBJz4326y1",
        "outputId": "164b3fe4-d3f1-4a3b-d57e-f2c595faa128"
      },
      "outputs": [
        {
          "name": "stdout",
          "output_type": "stream",
          "text": [
            "Shape of the filtered DataFrame: (2509130, 14)\n"
          ]
        }
      ],
      "source": [
        "# We retain the first 8\n",
        "\n",
        "# List of automakers to retain\n",
        "automakers_to_keep = ['VOLKSWAGEN', 'BMW', 'mercedes', 'audi', 'SKODA', 'SEAT', 'RENAULT', 'ford']\n",
        "\n",
        "# Filter the DataFrame to retain only rows where 'Country' is in the list of countries_to_keep\n",
        "df_regCA = df_regC[df_regC['Mh'].isin(automakers_to_keep)]\n",
        "\n",
        "# Check the shape of the filtered DataFrame to ensure the filtering worked\n",
        "print(\"Shape of the filtered DataFrame:\", df_regCA.shape)"
      ]
    },
    {
      "cell_type": "code",
      "execution_count": null,
      "metadata": {
        "id": "P1FOzEHI26y1",
        "outputId": "7807a1ff-5be0-4725-bf6b-c7ad35d2d302"
      },
      "outputs": [
        {
          "name": "stdout",
          "output_type": "stream",
          "text": [
            "                  Data Type  Unique Values  Missing Values (%)\n",
            "Country            category              6                 0.0\n",
            "Mh                 category              8                 0.0\n",
            "m (kg)              float32           1902                 0.0\n",
            "Mt                  float32           2023                 0.0\n",
            "Ewltp (g/km)        float32            347                 0.0\n",
            "W (mm)              float32            371                 0.0\n",
            "At1 (mm)            float32            786                 0.0\n",
            "At2 (mm)            float32            788                 0.0\n",
            "Ft                 category              7                 0.0\n",
            "Fm                 category              5                 0.0\n",
            "ec (cm3)            float32             56                 0.0\n",
            "ep (KW)             float32            151                 0.0\n",
            "year                float32              3                 0.0\n",
            "Fuel consumption    float32            195                 0.0\n"
          ]
        },
        {
          "data": {
            "text/plain": [
              "(2509130, 14)"
            ]
          },
          "execution_count": 23,
          "metadata": {},
          "output_type": "execute_result"
        }
      ],
      "source": [
        "# Check that changes were done via summary\n",
        "\n",
        "# Get the data types of each column\n",
        "data_types = df_regCA.dtypes\n",
        "\n",
        "# Get the number of unique values for each categorical column\n",
        "unique_values = df_regCA.select_dtypes(include=['int64', 'float64', 'float32','object', 'category', 'bool']).nunique()\n",
        "\n",
        "# Get the percentage of missing values for each column\n",
        "missing_values = df_regCA.isnull().mean() * 100\n",
        "\n",
        "# Combine the information into a DataFrame\n",
        "summary_df_regCA = pd.DataFrame({\n",
        "    'Data Type': data_types,\n",
        "    'Unique Values': unique_values,\n",
        "    'Missing Values (%)': missing_values\n",
        "})\n",
        "\n",
        "# Sort the summary DataFrame by the percentage of missing values in descending order\n",
        "summary_df_regCA = summary_df_regCA.sort_values(by='Missing Values (%)', ascending=False)\n",
        "\n",
        "# Print the summary DataFrame\n",
        "print(summary_df_regCA)\n",
        "\n",
        "# Show the shape of the original DataFrame\n",
        "df_regCA.shape"
      ]
    },
    {
      "cell_type": "markdown",
      "metadata": {
        "id": "FisppAso26y2"
      },
      "source": [
        "At this stage the Data is preprocessed to run ML models.\n",
        "Since the handling of outliers are needed for i.a.Linear Regression and k-Nearest Neighbors but not for Decision Trees and Random Forests. This step will be done when every model is run.\n",
        "The stages done until here will be saved as a separate datafile.       "
      ]
    },
    {
      "cell_type": "code",
      "execution_count": null,
      "metadata": {
        "id": "2BtYkqD226y2",
        "outputId": "9d1a589f-eae1-4ee4-b99c-08f4c32a49ee"
      },
      "outputs": [
        {
          "ename": "NameError",
          "evalue": "name 'df_regCA' is not defined",
          "output_type": "error",
          "traceback": [
            "\u001b[1;31m---------------------------------------------------------------------------\u001b[0m",
            "\u001b[1;31mNameError\u001b[0m                                 Traceback (most recent call last)",
            "Cell \u001b[1;32mIn[1], line 4\u001b[0m\n\u001b[0;32m      1\u001b[0m \u001b[38;5;66;03m# Save the dataframe as a Parquet file\u001b[39;00m\n\u001b[0;32m      2\u001b[0m \u001b[38;5;66;03m#df_regCA.to_parquet('df_regCA.parquet', engine='pyarrow', index=False)\u001b[39;00m\n\u001b[1;32m----> 4\u001b[0m \u001b[43mdf_regCA\u001b[49m\u001b[38;5;241m.\u001b[39mto_parquet(\u001b[38;5;124mr\u001b[39m\u001b[38;5;124m'\u001b[39m\u001b[38;5;124mC:\u001b[39m\u001b[38;5;124m\\\u001b[39m\u001b[38;5;124mUsers\u001b[39m\u001b[38;5;124m\\\u001b[39m\u001b[38;5;124malexa\u001b[39m\u001b[38;5;124m\\\u001b[39m\u001b[38;5;124mDownloads\u001b[39m\u001b[38;5;124m\\\u001b[39m\u001b[38;5;124mProjectCO2--no Gibhub\u001b[39m\u001b[38;5;124m\\\u001b[39m\u001b[38;5;124mEU_Alex\u001b[39m\u001b[38;5;124m\\\u001b[39m\u001b[38;5;124mDataPipeline\u001b[39m\u001b[38;5;124m\\\u001b[39m\u001b[38;5;124mEU all_current_shared_preprocessed_Alex.parquet\u001b[39m\u001b[38;5;124m'\u001b[39m, index\u001b[38;5;241m=\u001b[39m\u001b[38;5;28;01mFalse\u001b[39;00m)\n",
            "\u001b[1;31mNameError\u001b[0m: name 'df_regCA' is not defined"
          ]
        }
      ],
      "source": [
        "# Save the dataframe as a Parquet file\n",
        "#df_regCA.to_parquet('df_regCA.parquet', engine='pyarrow', index=False)\n",
        "\n",
        "df_regCA.to_parquet(r'C:\\Users\\alexa\\Downloads\\ProjectCO2--no Gibhub\\EU_Alex\\DataPipeline\\EU all_current_shared_preprocessed_Alex.parquet', index=False)\n"
      ]
    },
    {
      "cell_type": "code",
      "execution_count": null,
      "metadata": {
        "id": "vsJwukPZ26y2"
      },
      "outputs": [],
      "source": [
        "# Making the cell independet from the rest by loading and re-importing libraries\n",
        "\n",
        "# import libraries\n",
        "\n",
        "import pandas as pd\n",
        "import numpy as np\n",
        "import matplotlib.pyplot as plt\n",
        "import seaborn as sns\n",
        "\n",
        "# enabling the display of all columns\n",
        "pd.set_option('display.max_rows', None)\n",
        "pd.set_option('display.max_columns', None)\n",
        "\n",
        "# libraries LR\n",
        "\n",
        "import statsmodels.api as sm\n",
        "\n",
        "from sklearn.preprocessing import StandardScaler\n",
        "from sklearn.preprocessing import OneHotEncoder\n",
        "\n",
        "from statsmodels.formula.api import ols\n",
        "from statsmodels.stats.multicomp import pairwise_tukeyhsd\n",
        "\n",
        "from sklearn.linear_model import LinearRegression\n",
        "from sklearn.model_selection import train_test_split\n",
        "from sklearn.model_selection import cross_val_score   # added\n",
        "from sklearn.metrics import mean_squared_error, r2_score\n",
        "\n",
        "\n",
        "\n",
        "# reading the file\n",
        "\n",
        "# df=pd.read_parquet(r'C:\\Users\\alexa\\Downloads\\ProjectCO2--no Gibhub\\EU_Alex\\DataPipeline\\EU all_current_shared_preprocessed_Alex.parquet')"
      ]
    },
    {
      "cell_type": "markdown",
      "metadata": {
        "id": "q_gJOvcI26y2"
      },
      "source": [
        "Outlier handling to run a linear regression model"
      ]
    },
    {
      "cell_type": "code",
      "execution_count": null,
      "metadata": {
        "id": "dMczwAF_26y3",
        "outputId": "21b226d5-a750-49ae-cbc6-6d9944831055"
      },
      "outputs": [
        {
          "name": "stdout",
          "output_type": "stream",
          "text": [
            "Original DataFrame shape: (2509130, 14)\n",
            "DataFrame shape after removing outliers: (1272399, 14)\n"
          ]
        }
      ],
      "source": [
        "# Outlier handling of numerical variables\n",
        "\n",
        "# Exclude 'year' column and select float32 columns only\n",
        "int_columns = df.select_dtypes(include='float32').columns\n",
        "int_columns = int_columns.drop('year')\n",
        "\n",
        "# IQR method for outlier removal\n",
        "Q1 = df[int_columns].quantile(0.25)\n",
        "Q3 = df[int_columns].quantile(0.75)\n",
        "IQR = Q3 - Q1\n",
        "\n",
        "# Condition to filter out outliers\n",
        "condition = ~((df[int_columns] < (Q1 - 1.5 * IQR)) | (df[int_columns] > (Q3 + 1.5 * IQR))).any(axis=1)\n",
        "\n",
        "# Apply the condition to the DataFrame to remove outliers\n",
        "df_r = df[condition]\n",
        "\n",
        "print(f\"Original DataFrame shape: {df.shape}\")\n",
        "print(f\"DataFrame shape after removing outliers: {df_r.shape}\")\n"
      ]
    },
    {
      "cell_type": "code",
      "execution_count": null,
      "metadata": {
        "id": "e0DEmhVe26y3",
        "outputId": "55a5e0d0-72de-4f36-9bd4-5c0483520fd1"
      },
      "outputs": [
        {
          "name": "stdout",
          "output_type": "stream",
          "text": [
            "                  Data Type  Unique Values  Missing Values (%)\n",
            "Country            category              6                 0.0\n",
            "Mh                 category              8                 0.0\n",
            "m (kg)              float32           1286                 0.0\n",
            "Mt                  float32           1451                 0.0\n",
            "Ewltp (g/km)        float32            132                 0.0\n",
            "W (mm)              float32            123                 0.0\n",
            "At1 (mm)            float32             50                 0.0\n",
            "At2 (mm)            float32             63                 0.0\n",
            "Ft                 category              7                 0.0\n",
            "Fm                 category              5                 0.0\n",
            "ec (cm3)            float32             28                 0.0\n",
            "ep (KW)             float32             67                 0.0\n",
            "year                float32              3                 0.0\n",
            "Fuel consumption    float32             79                 0.0\n",
            "(1272399, 14)\n"
          ]
        }
      ],
      "source": [
        "#Let's pull our summary check\n",
        "\n",
        "# enabling the display of all columns\n",
        "pd.set_option('display.max_rows', None)\n",
        "pd.set_option('display.max_columns', None)\n",
        "\n",
        "# Get the data types of each column\n",
        "data_types = df_r.dtypes\n",
        "\n",
        "# Get the number of unique values for each categorical column\n",
        "unique_values = df_r.select_dtypes(include=['int64', 'float64', 'float32', 'object', 'category', 'bool']).nunique()\n",
        "\n",
        "# Get the percentage of missing values for each column\n",
        "missing_values = df_r.isnull().mean() * 100\n",
        "\n",
        "# Combine the information into a DataFrame\n",
        "summary_df_r = pd.DataFrame({\n",
        "    'Data Type': data_types,\n",
        "    'Unique Values': unique_values,\n",
        "    'Missing Values (%)': missing_values\n",
        "})\n",
        "\n",
        "# Sort the summary DataFrame by the percentage of missing values in descending order\n",
        "summary_df_r = summary_df_r.sort_values(by='Missing Values (%)', ascending=False)\n",
        "\n",
        "# Print the summary DataFrame\n",
        "print(summary_df_r)\n",
        "\n",
        "# Display the cleaned DataFrame shape\n",
        "print(df_r.shape)"
      ]
    },
    {
      "cell_type": "code",
      "execution_count": null,
      "metadata": {
        "id": "k46TC-OG26y3"
      },
      "outputs": [],
      "source": [
        "# Encoding, separation of target, train_test split, finally scaler\n",
        "\n",
        "# Identify categorical and numerical columns\n",
        "categorical_cols = ['Country', 'Mh', 'Fm', 'Ft']\n",
        "numerical_cols = df_r.select_dtypes(include=['float32']).columns.tolist()\n",
        "\n",
        "# Step 1: Encode categorical variables\n",
        "encoder = OneHotEncoder(sparse_output=False, drop='first')\n",
        "X_encoded = encoder.fit_transform(df_r[categorical_cols])\n",
        "\n",
        "# Step 2: Create a DataFrame for the encoded categorical variables\n",
        "X_encoded_df_r = pd.DataFrame(X_encoded, columns=encoder.get_feature_names_out(categorical_cols))\n",
        "\n",
        "# Step 3: Combine the encoded variables with the remaining numerical variables\n",
        "X = pd.concat([X_encoded_df_r, df_r[numerical_cols]], axis=1)  # Renamed to X\n",
        "\n"
      ]
    },
    {
      "cell_type": "code",
      "execution_count": null,
      "metadata": {
        "id": "bs670GV026y4"
      },
      "outputs": [],
      "source": [
        "# Step 4: Separate features and target variable\n",
        "\n",
        "y = df_r['Ewltp (g/km)']\n",
        "\n",
        "# Ensure X is based on the same DataFrame\n",
        "X = df_r.drop(columns=['Ewltp (g/km)'])\n",
        "\n",
        "# Step 5: Split into training and testing sets\n",
        "X_train, X_test, y_train, y_test = train_test_split(X, y, test_size=0.2, random_state=42)\n"
      ]
    },
    {
      "cell_type": "code",
      "execution_count": null,
      "metadata": {
        "id": "Tz-nHytT26y4",
        "outputId": "3cfd04d2-635b-45f0-e260-a422832fc118"
      },
      "outputs": [
        {
          "ename": "KeyError",
          "evalue": "\"['Ewltp (g/km)'] not in index\"",
          "output_type": "error",
          "traceback": [
            "\u001b[1;31m---------------------------------------------------------------------------\u001b[0m",
            "\u001b[1;31mKeyError\u001b[0m                                  Traceback (most recent call last)",
            "Cell \u001b[1;32mIn[9], line 9\u001b[0m\n\u001b[0;32m      6\u001b[0m scaler \u001b[38;5;241m=\u001b[39m StandardScaler()\n\u001b[0;32m      8\u001b[0m \u001b[38;5;66;03m# Select only numerical columns from X_train and X_test\u001b[39;00m\n\u001b[1;32m----> 9\u001b[0m X_train_num \u001b[38;5;241m=\u001b[39m \u001b[43mX_train\u001b[49m\u001b[43m[\u001b[49m\u001b[43mnumerical_cols2\u001b[49m\u001b[43m]\u001b[49m\n\u001b[0;32m     10\u001b[0m X_test_num \u001b[38;5;241m=\u001b[39m X_test[numerical_cols2] \u001b[38;5;66;03m#Showing error is here \"['Ewltp (g/km)'] not in index\" - why? if it was already splitted before\u001b[39;00m\n\u001b[0;32m     12\u001b[0m \u001b[38;5;66;03m# Apply scaling\u001b[39;00m\n",
            "File \u001b[1;32mc:\\Users\\alexa\\anaconda3\\envs\\aug24_bds_int---co2\\Lib\\site-packages\\pandas\\core\\frame.py:4108\u001b[0m, in \u001b[0;36mDataFrame.__getitem__\u001b[1;34m(self, key)\u001b[0m\n\u001b[0;32m   4106\u001b[0m     \u001b[38;5;28;01mif\u001b[39;00m is_iterator(key):\n\u001b[0;32m   4107\u001b[0m         key \u001b[38;5;241m=\u001b[39m \u001b[38;5;28mlist\u001b[39m(key)\n\u001b[1;32m-> 4108\u001b[0m     indexer \u001b[38;5;241m=\u001b[39m \u001b[38;5;28;43mself\u001b[39;49m\u001b[38;5;241;43m.\u001b[39;49m\u001b[43mcolumns\u001b[49m\u001b[38;5;241;43m.\u001b[39;49m\u001b[43m_get_indexer_strict\u001b[49m\u001b[43m(\u001b[49m\u001b[43mkey\u001b[49m\u001b[43m,\u001b[49m\u001b[43m \u001b[49m\u001b[38;5;124;43m\"\u001b[39;49m\u001b[38;5;124;43mcolumns\u001b[39;49m\u001b[38;5;124;43m\"\u001b[39;49m\u001b[43m)\u001b[49m[\u001b[38;5;241m1\u001b[39m]\n\u001b[0;32m   4110\u001b[0m \u001b[38;5;66;03m# take() does not accept boolean indexers\u001b[39;00m\n\u001b[0;32m   4111\u001b[0m \u001b[38;5;28;01mif\u001b[39;00m \u001b[38;5;28mgetattr\u001b[39m(indexer, \u001b[38;5;124m\"\u001b[39m\u001b[38;5;124mdtype\u001b[39m\u001b[38;5;124m\"\u001b[39m, \u001b[38;5;28;01mNone\u001b[39;00m) \u001b[38;5;241m==\u001b[39m \u001b[38;5;28mbool\u001b[39m:\n",
            "File \u001b[1;32mc:\\Users\\alexa\\anaconda3\\envs\\aug24_bds_int---co2\\Lib\\site-packages\\pandas\\core\\indexes\\base.py:6200\u001b[0m, in \u001b[0;36mIndex._get_indexer_strict\u001b[1;34m(self, key, axis_name)\u001b[0m\n\u001b[0;32m   6197\u001b[0m \u001b[38;5;28;01melse\u001b[39;00m:\n\u001b[0;32m   6198\u001b[0m     keyarr, indexer, new_indexer \u001b[38;5;241m=\u001b[39m \u001b[38;5;28mself\u001b[39m\u001b[38;5;241m.\u001b[39m_reindex_non_unique(keyarr)\n\u001b[1;32m-> 6200\u001b[0m \u001b[38;5;28;43mself\u001b[39;49m\u001b[38;5;241;43m.\u001b[39;49m\u001b[43m_raise_if_missing\u001b[49m\u001b[43m(\u001b[49m\u001b[43mkeyarr\u001b[49m\u001b[43m,\u001b[49m\u001b[43m \u001b[49m\u001b[43mindexer\u001b[49m\u001b[43m,\u001b[49m\u001b[43m \u001b[49m\u001b[43maxis_name\u001b[49m\u001b[43m)\u001b[49m\n\u001b[0;32m   6202\u001b[0m keyarr \u001b[38;5;241m=\u001b[39m \u001b[38;5;28mself\u001b[39m\u001b[38;5;241m.\u001b[39mtake(indexer)\n\u001b[0;32m   6203\u001b[0m \u001b[38;5;28;01mif\u001b[39;00m \u001b[38;5;28misinstance\u001b[39m(key, Index):\n\u001b[0;32m   6204\u001b[0m     \u001b[38;5;66;03m# GH 42790 - Preserve name from an Index\u001b[39;00m\n",
            "File \u001b[1;32mc:\\Users\\alexa\\anaconda3\\envs\\aug24_bds_int---co2\\Lib\\site-packages\\pandas\\core\\indexes\\base.py:6252\u001b[0m, in \u001b[0;36mIndex._raise_if_missing\u001b[1;34m(self, key, indexer, axis_name)\u001b[0m\n\u001b[0;32m   6249\u001b[0m     \u001b[38;5;28;01mraise\u001b[39;00m \u001b[38;5;167;01mKeyError\u001b[39;00m(\u001b[38;5;124mf\u001b[39m\u001b[38;5;124m\"\u001b[39m\u001b[38;5;124mNone of [\u001b[39m\u001b[38;5;132;01m{\u001b[39;00mkey\u001b[38;5;132;01m}\u001b[39;00m\u001b[38;5;124m] are in the [\u001b[39m\u001b[38;5;132;01m{\u001b[39;00maxis_name\u001b[38;5;132;01m}\u001b[39;00m\u001b[38;5;124m]\u001b[39m\u001b[38;5;124m\"\u001b[39m)\n\u001b[0;32m   6251\u001b[0m not_found \u001b[38;5;241m=\u001b[39m \u001b[38;5;28mlist\u001b[39m(ensure_index(key)[missing_mask\u001b[38;5;241m.\u001b[39mnonzero()[\u001b[38;5;241m0\u001b[39m]]\u001b[38;5;241m.\u001b[39munique())\n\u001b[1;32m-> 6252\u001b[0m \u001b[38;5;28;01mraise\u001b[39;00m \u001b[38;5;167;01mKeyError\u001b[39;00m(\u001b[38;5;124mf\u001b[39m\u001b[38;5;124m\"\u001b[39m\u001b[38;5;132;01m{\u001b[39;00mnot_found\u001b[38;5;132;01m}\u001b[39;00m\u001b[38;5;124m not in index\u001b[39m\u001b[38;5;124m\"\u001b[39m)\n",
            "\u001b[1;31mKeyError\u001b[0m: \"['Ewltp (g/km)'] not in index\""
          ]
        }
      ],
      "source": [
        "\n",
        "# Step 6: Scale the numerical variables\n",
        "scaler = StandardScaler()\n",
        "\n",
        "# Select only numerical columns from X_train and X_test\n",
        "X_train_num = X_train[numerical_cols]\n",
        "X_test_num = X_test[numerical_cols] #Showing error is here \"['Ewltp (g/km)'] not in index\" - why? if it was already splitted before\n",
        "\n",
        "# Apply scaling\n",
        "X_train_scaled = scaler.fit_transform(X_train_num)\n",
        "X_test_scaled = scaler.transform(X_test_num)\n",
        "\n",
        "# Replace the numerical columns in the original X_train and X_test with the scaled versions\n",
        "X_train[numerical_cols] = X_train_scaled\n",
        "X_test[numerical_cols] = X_test_scaled\n",
        "\n",
        "# Check the shapes of the train and test sets\n",
        "print(f\"X_train shape: {X_train.shape}, y_train shape: {y_train.shape}\")\n",
        "print(f\"X_test shape: {X_test.shape}, y_test shape: {y_test.shape}\")"
      ]
    },
    {
      "cell_type": "code",
      "execution_count": null,
      "metadata": {
        "id": "yoP4L-Gu26y4",
        "outputId": "c2575203-cdf4-4386-8c5c-ebe167d969db"
      },
      "outputs": [
        {
          "name": "stdout",
          "output_type": "stream",
          "text": [
            "Index(['Country', 'Mh', 'm (kg)', 'Mt', 'Ewltp (g/km)', 'W (mm)', 'At1 (mm)',\n",
            "       'At2 (mm)', 'Ft', 'Fm', 'ec (cm3)', 'ep (KW)', 'year',\n",
            "       'Fuel consumption '],\n",
            "      dtype='object')\n"
          ]
        }
      ],
      "source": [
        "print(df_r.columns)\n"
      ]
    },
    {
      "cell_type": "code",
      "execution_count": null,
      "metadata": {
        "id": "fXXjLgq826y5"
      },
      "outputs": [],
      "source": []
    },
    {
      "cell_type": "code",
      "execution_count": null,
      "metadata": {
        "id": "TV13h0UF26y5"
      },
      "outputs": [],
      "source": []
    },
    {
      "cell_type": "code",
      "execution_count": null,
      "metadata": {
        "id": "qtmFHuv626y5"
      },
      "outputs": [],
      "source": []
    },
    {
      "cell_type": "markdown",
      "metadata": {
        "id": "NrzzOLmS26y5"
      },
      "source": [
        "# Saving data"
      ]
    },
    {
      "cell_type": "code",
      "execution_count": null,
      "metadata": {
        "id": "KsXKxLcH26y6"
      },
      "outputs": [],
      "source": [
        "# Saving data before the next pipline steps\n",
        "# Example usage:\n",
        "# save_data(df, 'my_data.csv', '/path/to/save')\n",
        "\n",
        "save_data(df = df, file_name = 'Data_Preprocessed_Step2_RegressionModel_Alex.csv', file_path = data_path)"
      ]
    },
    {
      "cell_type": "code",
      "execution_count": null,
      "metadata": {
        "id": "ctXJFzkp26y6"
      },
      "outputs": [],
      "source": []
    },
    {
      "cell_type": "code",
      "execution_count": null,
      "metadata": {
        "id": "RzEzSCE226y6"
      },
      "outputs": [],
      "source": []
    },
    {
      "cell_type": "code",
      "execution_count": null,
      "metadata": {
        "id": "M8en_2Xj26y6"
      },
      "outputs": [],
      "source": []
    },
    {
      "cell_type": "code",
      "execution_count": null,
      "metadata": {
        "id": "ysDXO95N26y7"
      },
      "outputs": [],
      "source": [
        "# The beginning of each section\n",
        "# Loading the data frame\n",
        "# Inspect the data frame\n",
        "df = load_data_local('Data_Preprocessed_Step1.csv', data_path)\n",
        "\n",
        "# Oder eben\n",
        "\n",
        "# df = load_data_gdrive(file_name=?, file_path=?, file_id=?)\n",
        "\n",
        "inspect_data(df)"
      ]
    },
    {
      "cell_type": "markdown",
      "metadata": {
        "id": "qrB5LV1L26y7"
      },
      "source": [
        "# 3. Regression model (Victor)"
      ]
    },
    {
      "cell_type": "code",
      "execution_count": null,
      "metadata": {
        "id": "1Cwp2yWMBGd2"
      },
      "outputs": [],
      "source": [
        "# -> Loading the data frame [the df* I used before]\n",
        "\n",
        "file_path = \"/content/drive/MyDrive/CO2/EU_int_combustion_FR_22-23.parquet\"\n",
        "df = pd.read_parquet(file_path)\n",
        "\n",
        "\n",
        "# *\n",
        "# data = /content/drive/MyDrive/CO2/EU_all_current_shared_corrected.parquet\n",
        "# Filtering:\n",
        "#  - only France (FR)\n",
        "#  - only years 2022, 2023\n",
        "#  - only internal combustion, non electric, non hybrid\n",
        "#  - At1, At2, W replaced with WA(m2) -> (At1 + At2)/2 * W : Wheels-Area [m2]\n",
        "#  - and other column drops"
      ]
    },
    {
      "cell_type": "code",
      "execution_count": null,
      "metadata": {
        "colab": {
          "base_uri": "https://localhost:8080/"
        },
        "id": "9xyQGANxGE7d",
        "outputId": "cd9a2bc9-8684-420b-cc0d-0f03ad540136"
      },
      "outputs": [
        {
          "name": "stdout",
          "output_type": "stream",
          "text": [
            "========================================\n",
            "🚀 Basic Data Overview\n",
            "========================================\n",
            "🗂 Shape of the DataFrame: 216625 rows, 22 columns\n",
            "\n",
            "🔍 First 5 rows of the DataFrame:\n",
            "                               VFN    Mh                 Man  \\\n",
            "10828014  IP-MQB37SZ_A0_0555-VSS-1  SEAT             SEAT SA   \n",
            "10828015  IP-MQB37SZ_A0_0555-VSS-1  SEAT             SEAT SA   \n",
            "10828016  IP-MQB37SZ_A0_0555-VSS-1  SEAT             SEAT SA   \n",
            "10828017  IP-MQB37SZ_A0_0555-VSS-1  SEAT             SEAT SA   \n",
            "10828501  IP-HNS____MB6E242A-VR3-0   PSA  PSA AUTOMOBILES SA   \n",
            "\n",
            "                         Tan    T        Va                            Ve  \\\n",
            "10828014  e9*2007/46*6394*34  5FP  SXDTTCX0  FD7SFD7GC0044BIVL1A18AAA8M16   \n",
            "10828015  e9*2007/46*6394*34  5FP  SXDTTCX0  FD7SFD7GC0044BIVL1A18AAA8M16   \n",
            "10828016  e9*2007/46*6394*34  5FP  SXDTTCX0  FD7SFD7GC0044BIVL1A18AAA8M16   \n",
            "10828017  e9*2007/46*6394*34  5FP  SXDTTCX0  FD7SFD7GC0044BIVL1C18AAA8M16   \n",
            "10828501  e2*2007/46*0628*17    F         P                   HNSL-B11E00   \n",
            "\n",
            "               Mk          Cn  Cr  m (kg)      Mt  Ewltp (g/km)      Ft Fm  \\\n",
            "10828014     SEAT  SEAT ATECA  M1  1514.0  1642.0         131.0  DIESEL  M   \n",
            "10828015     SEAT  SEAT ATECA  M1  1514.0  1629.0         131.0  DIESEL  M   \n",
            "10828016     SEAT  SEAT ATECA  M1  1514.0  1649.0         131.0  DIESEL  M   \n",
            "10828017     SEAT  SEAT ATECA  M1  1514.0  1618.0         136.0  DIESEL  M   \n",
            "10828501  PEUGEOT         308  M1  1333.0  1453.0         126.0  PETROL  M   \n",
            "\n",
            "          ec (cm3)  ep (KW)      IT  Erwltp (g/km)  year  Fuel consumption   \\\n",
            "10828014    1968.0    110.0  _none_            0.0  2022                5.0   \n",
            "10828015    1968.0    110.0  _none_            0.0  2022                5.0   \n",
            "10828016    1968.0    110.0  _none_            0.0  2022                5.0   \n",
            "10828017    1968.0    110.0  _none_            0.0  2022                5.2   \n",
            "10828501    1199.0     96.0  _none_            0.0  2022                5.6   \n",
            "\n",
            "          WA (m2)  \n",
            "10828014     4.09  \n",
            "10828015     4.09  \n",
            "10828016     4.09  \n",
            "10828017     4.09  \n",
            "10828501     4.17  \n",
            "\n",
            "📊 DataFrame Information:\n",
            "<class 'pandas.core.frame.DataFrame'>\n",
            "Index: 216625 entries, 10828014 to 13929655\n",
            "Data columns (total 22 columns):\n",
            " #   Column             Non-Null Count   Dtype   \n",
            "---  ------             --------------   -----   \n",
            " 0   VFN                216625 non-null  category\n",
            " 1   Mh                 216625 non-null  category\n",
            " 2   Man                216625 non-null  category\n",
            " 3   Tan                216625 non-null  category\n",
            " 4   T                  216625 non-null  category\n",
            " 5   Va                 216625 non-null  category\n",
            " 6   Ve                 216625 non-null  category\n",
            " 7   Mk                 216625 non-null  category\n",
            " 8   Cn                 216625 non-null  category\n",
            " 9   Cr                 216625 non-null  category\n",
            " 10  m (kg)             216625 non-null  float32 \n",
            " 11  Mt                 216625 non-null  float32 \n",
            " 12  Ewltp (g/km)       216625 non-null  float32 \n",
            " 13  Ft                 216625 non-null  category\n",
            " 14  Fm                 216625 non-null  category\n",
            " 15  ec (cm3)           216625 non-null  float32 \n",
            " 16  ep (KW)            216625 non-null  float32 \n",
            " 17  IT                 216625 non-null  category\n",
            " 18  Erwltp (g/km)      216625 non-null  float32 \n",
            " 19  year               216625 non-null  Int64   \n",
            " 20  Fuel consumption   216625 non-null  float32 \n",
            " 21  WA (m2)            216625 non-null  float64 \n",
            "dtypes: Int64(1), category(13), float32(7), float64(1)\n",
            "memory usage: 15.5 MB\n",
            "\n",
            "📈 Summary Statistics of Numeric Columns:\n",
            "              m (kg)             Mt   Ewltp (g/km)       ec (cm3)  \\\n",
            "count  216625.000000  216625.000000  216625.000000  216625.000000   \n",
            "mean     1515.242676    1651.298950     142.173965    1643.709839   \n",
            "std       240.277924     264.316254      24.360537     488.286438   \n",
            "min       570.000000     616.000000      87.000000     658.000000   \n",
            "25%      1354.000000    1471.000000     129.000000    1332.000000   \n",
            "50%      1504.000000    1630.000000     138.000000    1499.000000   \n",
            "75%      1645.000000    1784.000000     150.000000    1968.000000   \n",
            "max      2866.000000    3150.000000     571.000000    7993.000000   \n",
            "\n",
            "             ep (KW)  Erwltp (g/km)         year  Fuel consumption   \\\n",
            "count  216625.000000  216625.000000     216625.0      216625.000000   \n",
            "mean      113.536736       1.425022  2022.455141           5.957638   \n",
            "std        47.098534       0.668172     0.497985           1.103720   \n",
            "min        44.000000       0.000000       2022.0           3.700000   \n",
            "25%        90.000000       1.000000       2022.0           5.300000   \n",
            "50%       110.000000       1.700000       2022.0           5.800000   \n",
            "75%       120.000000       1.960000       2023.0           6.400000   \n",
            "max      1103.000000       4.500000       2023.0          25.200001   \n",
            "\n",
            "             WA (m2)  \n",
            "count  216625.000000  \n",
            "mean        4.225304  \n",
            "std         0.336211  \n",
            "min         2.800000  \n",
            "25%         4.000000  \n",
            "50%         4.210000  \n",
            "75%         4.400000  \n",
            "max         6.340000  \n",
            "\n",
            "❓ Missing Values Overview:\n",
            "                      Dtype Missing Count Percent Missing\n",
            "VFN                category             0           0.00%\n",
            "Mh                 category             0           0.00%\n",
            "Man                category             0           0.00%\n",
            "Tan                category             0           0.00%\n",
            "T                  category             0           0.00%\n",
            "Va                 category             0           0.00%\n",
            "Ve                 category             0           0.00%\n",
            "Mk                 category             0           0.00%\n",
            "Cn                 category             0           0.00%\n",
            "Cr                 category             0           0.00%\n",
            "m (kg)              float32             0           0.00%\n",
            "Mt                  float32             0           0.00%\n",
            "Ewltp (g/km)        float32             0           0.00%\n",
            "Ft                 category             0           0.00%\n",
            "Fm                 category             0           0.00%\n",
            "ec (cm3)            float32             0           0.00%\n",
            "ep (KW)             float32             0           0.00%\n",
            "IT                 category             0           0.00%\n",
            "Erwltp (g/km)       float32             0           0.00%\n",
            "year                  Int64             0           0.00%\n",
            "Fuel consumption    float32             0           0.00%\n",
            "WA (m2)             float64             0           0.00%\n",
            "\n",
            "🔑 Unique Values in Categorical/Object Columns:\n",
            "Column 'VFN' has 2212 unique values\n",
            "Column 'Mh' has 65 unique values\n",
            "Column 'Man' has 65 unique values\n",
            "Column 'Tan' has 2092 unique values\n",
            "Column 'T' has 334 unique values\n",
            "Column 'Va' has 1569 unique values\n",
            "Column 'Ve' has 8307 unique values\n",
            "Column 'Mk' has 56 unique values\n",
            "Column 'Cn' has 710 unique values\n",
            "Column 'Cr' has 2 unique values\n",
            "Column 'Ft' has 5 unique values\n",
            "Column 'Fm' has 4 unique values\n",
            "Column 'IT' has 78 unique values\n"
          ]
        }
      ],
      "source": [
        "# -> Inspect the data frame\n",
        "inspect_data(df)\n"
      ]
    },
    {
      "cell_type": "code",
      "execution_count": null,
      "metadata": {
        "colab": {
          "base_uri": "https://localhost:8080/"
        },
        "id": "cNZv6QFUKM_z",
        "outputId": "754b936c-4183-4b30-d088-d43f74d7e0df"
      },
      "outputs": [
        {
          "data": {
            "text/plain": [
              "Index(['VFN', 'Mh', 'Man', 'Tan', 'T', 'Va', 'Ve', 'Mk', 'Cn', 'Cr', 'm (kg)',\n",
              "       'Mt', 'Ewltp (g/km)', 'Ft', 'Fm', 'ec (cm3)', 'ep (KW)', 'IT',\n",
              "       'Erwltp (g/km)', 'year', 'Fuel consumption ', 'WA (m2)'],\n",
              "      dtype='object')"
            ]
          },
          "execution_count": 16,
          "metadata": {},
          "output_type": "execute_result"
        }
      ],
      "source": [
        "df.columns"
      ]
    },
    {
      "cell_type": "code",
      "execution_count": null,
      "metadata": {
        "colab": {
          "base_uri": "https://localhost:8080/"
        },
        "id": "aQn7-Q3T26y7",
        "outputId": "4346a9cd-cd41-4e88-f99c-4ffc60f2c8ad"
      },
      "outputs": [
        {
          "name": "stdout",
          "output_type": "stream",
          "text": [
            "Target variable:  Ewltp (g/km)\n",
            "Explanatory variables before encoding: \n",
            " Index(['Mk', 'Mt', 'Ft', 'Fm', 'ec (cm3)', 'ep (KW)', 'IT', 'Erwltp (g/km)',\n",
            "       'WA (m2)'],\n",
            "      dtype='object')\n",
            "\n",
            "Explanatory variables after encoding: \n",
            " Index(['Mt', 'ec (cm3)', 'ep (KW)', 'Erwltp (g/km)', 'WA (m2)', 'Ft_DIESEL',\n",
            "       'Ft_E85', 'Ft_LPG', 'Ft_NG-BIOMETHANE', 'Ft_PETROL',\n",
            "       ...\n",
            "       'IT_e9 28', 'IT_e9 28 29', 'IT_e9 29', 'IT_e9 29 37', 'IT_e9 32',\n",
            "       'IT_e9 32 37', 'IT_e9 33', 'IT_e9 33 37', 'IT_e9 37', 'IT__none_'],\n",
            "      dtype='object', length=150)\n",
            "\n",
            "Score (R²) of the model on the training sample:  0.913\n",
            "Score of cross validation - mean:  -1.2485688372496622e+24\n",
            "Score (R²) of the model on the test sample:  0.915\n",
            "\n",
            "RMSE on train-set:  7.14\n",
            "RMSE on test-set:  7.21\n",
            "\n"
          ]
        }
      ],
      "source": [
        "# Victor:\n",
        "# Starting by a copy and paste of best linear regressor so far...\n",
        "# adapted to work with uploaded data-frame (my old one)\n",
        "#---------------------------------------------------------------------------#\n",
        "\n",
        "# Simple linear regression model\n",
        "#\n",
        "# droping \"Fuel consumption \" as \"explanotry var\"\n",
        "# using num. vars\n",
        "# including fuel-type \"Ft\" (cat) one-hot-encoded (after Train-Test-Split)\n",
        "# including fuel-mode \"Fm\" (cat) one-hot-encoded (after Trian-Test-Split)\n",
        "# including Make      \"Mk\" (cat) one-hot-encoded (after Trian-Test-Split)\n",
        "# including Ino.Tech. \"IT\" (cat) one-hot-encoded (after Trian-Test-Split)\n",
        "# scaling the features (after cat. encoding)\n",
        "\n",
        "# start clean\n",
        "# df_int_combustion_num = df_int_combustion_num_fallback.copy()\n",
        "\n",
        "# define colums to keep / features : here are all columns listed\n",
        "to_keep = ['VFN', 'Mh', 'Man', 'Tan', 'T', 'Va', 'Ve', 'Mk', 'Cn', 'Cr', 'm (kg)',\n",
        "           'Mt', 'Ewltp (g/km)', 'Ft', 'Fm', 'ec (cm3)', 'ep (KW)', 'IT',\n",
        "           'Erwltp (g/km)', 'year', 'Fuel consumption ', 'WA (m2)']\n",
        "\n",
        "to_keep = ['Mk', 'Mt', 'Ft', 'Fm', 'ec (cm3)', 'ep (KW)', 'IT',\n",
        "           'Erwltp (g/km)', 'WA (m2)']\n",
        "\n",
        "\n",
        "# create target data: var y (pd series)\n",
        "y = df[\"Ewltp (g/km)\"]\n",
        "print(\"Target variable: \", y.name)\n",
        "\n",
        "# create explanaory data: var X (pd dataframe) droping also fuel consumption\n",
        "X = df[to_keep]\n",
        "print(\"Explanatory variables before encoding: \\n\", X.columns)\n",
        "print()\n",
        "\n",
        "# split the data into training, testing sub-sets\n",
        "X_train, X_test, y_train, y_test = train_test_split(X, y, test_size =0.25, random_state = 42)\n",
        "\n",
        "# select categorial features\n",
        "cat_features = [\"Ft\", \"Fm\", \"Mk\", \"IT\"]\n",
        "\n",
        "# encode Ft (cat.-var.) in X_train and X_test\n",
        "X_train = pd.get_dummies(X_train, columns = [\"Ft\"], prefix = \"Ft\")\n",
        "X_test = pd.get_dummies(X_test, columns = [\"Ft\"], prefix = \"Ft\")\n",
        "\n",
        "# encode Fm (cat.-var.) in X_train and X_test\n",
        "X_train = pd.get_dummies(X_train, columns = [\"Fm\"], prefix = \"Fm\")\n",
        "X_test = pd.get_dummies(X_test, columns = [\"Fm\"], prefix = \"Fm\")\n",
        "\n",
        "# encode Mk (cat.-var.) in X_train and X_test\n",
        "X_train = pd.get_dummies(X_train, columns = [\"Mk\"], prefix = \"Mk\")\n",
        "X_test = pd.get_dummies(X_test, columns = [\"Mk\"], prefix = \"Mk\")\n",
        "\n",
        "# encode IT (cat.-var.) in X_train and X_test\n",
        "X_train = pd.get_dummies(X_train, columns = [\"IT\"], prefix = \"IT\")\n",
        "X_test = pd.get_dummies(X_test, columns = [\"IT\"], prefix = \"IT\")\n",
        "print(\"Explanatory variables after encoding: \\n\", X_train.columns)\n",
        "print()\n",
        "\n",
        "# align columns in X_train and X_test (in case some categories are not present in test or train)\n",
        "X_test = X_test.reindex(columns=X_train.columns, fill_value=0)\n",
        "\n",
        "# create a scaler\n",
        "scaler = StandardScaler().fit(X_train)\n",
        "\n",
        "# apply the scaler to X_train and X_test\n",
        "X_train_scaled = scaler.transform(X_train)\n",
        "X_test_scaled = scaler.transform(X_test)\n",
        "# display(X_train_scaled)\n",
        "\n",
        "# create an instance of a lin. reg. modell\n",
        "lr = LinearRegression()\n",
        "\n",
        "# train/fit the model\n",
        "lr.fit(X_train_scaled, y_train)\n",
        "\n",
        "# display intercept and coeff (slope) together with the var/column involved -> in a df\n",
        "coeffs = list(lr.coef_)\n",
        "coeffs.insert(0, lr.intercept_)\n",
        "\n",
        "features = list(X_train.columns)\n",
        "features.insert(0, \"intercept\")\n",
        "\n",
        "coef = pd.DataFrame({\"Estimated value\": coeffs}, index = features)\n",
        "# print(\"Linear regression model coefficients:\")\n",
        "# display(coef)\n",
        "# print()\n",
        "\n",
        "# display the score (R²) of the model on the training sample.\n",
        "score_train = round(lr.score(X_train_scaled, y_train), 3)\n",
        "print(\"Score (R²) of the model on the training sample: \", score_train)\n",
        "\n",
        "# display score of cross validation 5-fold  - mean\n",
        "score_cross_val = round(cross_val_score(lr, X_train_scaled, y_train, cv = 5).mean(), 3)\n",
        "print(\"Score of cross validation - mean: \", score_cross_val)\n",
        "\n",
        "# display the score (R²) of the model on the test sample.\n",
        "score_test = round(lr.score(X_test_scaled, y_test), 3)\n",
        "print(\"Score (R²) of the model on the test sample: \", score_test)\n",
        "print()\n",
        "\n",
        "# store the model pred. for X_train_scaled and X_test_scaled in the\n",
        "# respective tables (pred_train) and (pred_test).\n",
        "pred_train = lr.predict(X_train_scaled)\n",
        "pred_test = lr.predict(X_test_scaled)\n",
        "\n",
        "# display the roots of the mean square errors RMSE for both samples.\n",
        "rmse_train = round(np.sqrt(mean_squared_error(y_train, pred_train)),2)\n",
        "rmse_test =  round(np.sqrt(mean_squared_error(y_test, pred_test)),2)\n",
        "print(\"RMSE on train-set: \", rmse_train)\n",
        "print(\"RMSE on test-set: \", rmse_test)\n",
        "print()\n",
        "\n",
        "#-------------------------------------------------\n",
        "# # concatenate X_train, y_train\n",
        "# df_train = pd.concat([X_train, y_train], axis = 1)\n",
        "\n",
        "# # calc correlation\n",
        "# df_train_cor = round(df_train.corr(),2)\n",
        "\n",
        "# # display heatmap\n",
        "# plt.figure(figsize=(22,18))\n",
        "# sns.heatmap(df_train_cor, annot = False);\n",
        "# -------------------------------------------------\n",
        "\n",
        "# Score (R²) of the model on the training sample: 0.913\n",
        "# Score of cross validation - mean: - 1.x ?!?!?\n",
        "# Score (R²) of the model on the test sample: 0.915\n",
        "# RMSE train-set: 7.17\n",
        "# RMSE test-set: 1.13\n"
      ]
    },
    {
      "cell_type": "code",
      "execution_count": null,
      "metadata": {
        "colab": {
          "background_save": true
        },
        "id": "kmV3dTyZjMpy",
        "outputId": "466b263d-44e0-4d51-ba9b-9cde868b4b11"
      },
      "outputs": [
        {
          "name": "stdout",
          "output_type": "stream",
          "text": [
            "Buffered data was truncated after reaching the output size limit."
          ]
        }
      ],
      "source": [
        "# X_train.value_counts() # will run out of memory"
      ]
    },
    {
      "cell_type": "code",
      "execution_count": null,
      "metadata": {
        "id": "P_CNENp0BDVS"
      },
      "outputs": [],
      "source": []
    },
    {
      "cell_type": "code",
      "execution_count": null,
      "metadata": {
        "id": "jCZoKCdR26y8"
      },
      "outputs": [],
      "source": []
    },
    {
      "cell_type": "markdown",
      "metadata": {
        "id": "69rtW1Ax26y8"
      },
      "source": [
        " # 4. Decision Tree (Alex)"
      ]
    },
    {
      "cell_type": "code",
      "execution_count": null,
      "metadata": {
        "id": "X1nTCYG326y8"
      },
      "outputs": [],
      "source": []
    },
    {
      "cell_type": "markdown",
      "metadata": {
        "id": "3oZo4m0X26y8"
      },
      "source": [
        "# 5. Ensemble: Forest (Alex)"
      ]
    },
    {
      "cell_type": "code",
      "execution_count": null,
      "metadata": {
        "id": "_cTnO1cH26y8"
      },
      "outputs": [],
      "source": []
    },
    {
      "cell_type": "markdown",
      "metadata": {
        "id": "Zgz6frhi26y9"
      },
      "source": [
        "# 6. Evaluation Evaluation with baseline regression models"
      ]
    },
    {
      "cell_type": "code",
      "execution_count": null,
      "metadata": {
        "id": "J60DaoAf26y9"
      },
      "outputs": [],
      "source": []
    },
    {
      "cell_type": "markdown",
      "metadata": {
        "id": "RyINPizG26y9"
      },
      "source": [
        "# Evaluation with baseline classification models (Pending)"
      ]
    },
    {
      "cell_type": "code",
      "execution_count": null,
      "metadata": {
        "id": "PuvGv3ee26y9"
      },
      "outputs": [],
      "source": []
    }
  ],
  "metadata": {
    "colab": {
      "provenance": []
    },
    "kernelspec": {
      "display_name": "aug24_bds_int---co2",
      "language": "python",
      "name": "python3"
    },
    "language_info": {
      "codemirror_mode": {
        "name": "ipython",
        "version": 3
      },
      "file_extension": ".py",
      "mimetype": "text/x-python",
      "name": "python",
      "nbconvert_exporter": "python",
      "pygments_lexer": "ipython3",
      "version": "3.12.5"
    }
  },
  "nbformat": 4,
  "nbformat_minor": 0
}