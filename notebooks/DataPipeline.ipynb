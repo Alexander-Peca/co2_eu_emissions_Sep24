{
 "cells": [
  {
   "cell_type": "markdown",
   "metadata": {},
   "source": [
    "# Datapipeline:\n",
    "\n",
    "WARNING:\n",
    "\n",
    "+ For the script to work the data files must be positiong in the data path of the repository. \n",
    "Or the path to the data must be adapted accordingly. In this script all data must be in data_path \n",
    "+ The *Data which is used : EU_all_current_shared.parquet* from Andreas preprocession.\n",
    "\n",
    "# Import the necessary libraries \n",
    "\n",
    "# 0. Load the Data \n",
    "\n",
    "* Load the data from a specified file using the appropriate function.\n",
    "* Save the loaded data into a variable for further use.\n",
    "\n",
    "# 1. Main data pipeline \n",
    "Treat data to reach a point were we have the data frame ready for the separate treatments for classification and regression treatment \n",
    "\n",
    "* 1.A: Omitting / deleting of variables which have no meaning for the model (explain why)\n",
    "* 1.B: Omitting / deleting car identifiers because they are not relevant for the model\n",
    "* 1.C: Omitting data before a certain year (explain why) \n",
    "* 1.D: Treatment of outliers (explaing why)\n",
    "    * Mean for gaussian like data \n",
    "    * Other technique for non gaussian distributed data \n",
    "* 1.E: Separation into electric cars and non electric cars (explain why)\n",
    "\n",
    "# 2. Data pipeline for classification models \n",
    "Prepare data so that it can be used for all basic classification models \n",
    "\n",
    "* Loading data which has received the first/main data pipeline \n",
    "* \n",
    "* \n",
    "*\n",
    "* Separation into train and test data \n",
    "* Scale data \n",
    "\n",
    "# 3. Data pipeline for regression models \n",
    "Prepare data so that it can be used for all basic regression models \n",
    "\n",
    "* Loading data which has received the first/main data pipeline \n",
    "* \n",
    "* \n",
    "*\n",
    "* Separation into train and test data \n",
    "\n",
    "# 4. Evaluation with baseline classification models \n",
    "\n",
    "* Create different baselin models \n",
    "* Train models \n",
    "* Prediction \n",
    "* Evaluation / Score \n",
    "\n",
    "# 5. Evaluation with baseline regression models \n",
    "\n",
    "* Create different baselin models \n",
    "* Train models \n",
    "* Prediction \n",
    "* Evaluation / Score \n",
    "\n"
   ]
  },
  {
   "cell_type": "markdown",
   "metadata": {},
   "source": [
    "# Importing necessary libraries "
   ]
  },
  {
   "cell_type": "markdown",
   "metadata": {},
   "source": [
    "# 0. Loading Data "
   ]
  },
  {
   "cell_type": "markdown",
   "metadata": {},
   "source": [
    "# 1. Main data pipeline "
   ]
  },
  {
   "cell_type": "markdown",
   "metadata": {},
   "source": [
    "# 2. Data pipeline for classification models "
   ]
  },
  {
   "cell_type": "markdown",
   "metadata": {},
   "source": [
    "# 3. Data pipeline for regression models "
   ]
  },
  {
   "cell_type": "markdown",
   "metadata": {},
   "source": [
    "# 4. Evaluation with baseline classification models "
   ]
  },
  {
   "cell_type": "markdown",
   "metadata": {},
   "source": [
    "# 5. Evaluation with baseline regression models "
   ]
  }
 ],
 "metadata": {
  "language_info": {
   "name": "python"
  }
 },
 "nbformat": 4,
 "nbformat_minor": 2
}
