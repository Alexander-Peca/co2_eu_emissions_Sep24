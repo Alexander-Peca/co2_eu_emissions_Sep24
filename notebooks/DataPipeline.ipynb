{
 "cells": [
  {
   "cell_type": "markdown",
   "metadata": {},
   "source": [
    "# Datapipeline:\n",
    "\n",
    "WARNING:\n",
    "\n",
    "+ For the script to work the data files must be positiong in the data path of the repository. \n",
    "Or the path to the data must be adapted accordingly. In this script all csv data must be in data_path \n",
    "+ The *Data which is used* : EU_all_current_shared.parquet from Andreas \n",
    "\n",
    "# 0. Loading Data \n",
    "\n",
    "# 1. Main data pipeline \n",
    "Treat data to reach a point were we have the data frame ready for the separate treatments for classification and regression treatment \n",
    "\n",
    "* mapping of entries in countrys, and companies and so on, see Andreas jupyter notebooks \n",
    "* only unique values remains in columns which are categorical \n",
    "\n",
    "# 2. Data pipeline for classification models \n",
    "Prepare data so that it can be used for all basic classification models \n",
    "\n",
    "# 3. Data pipeline for regression models \n",
    "Prepare data so that it can be used for all basic regression models \n",
    "\n",
    "\n",
    " * Retrieving data\n",
    " + Get an overview and count empty entries in the dataset  \n",
    " + Drop Fuel consumption because it is too much correlated with CO2 Emission \n",
    " * Explanatory Variable is Ewltp (g/km) and Erwltp(g/km)\n",
    " + Filter all data that has no explanatory variable  \n",
    " + Drop data before 2015 because of VW diesel Scandal \n",
    " + Drop data before 2018 because of the succesfull implementation of the new WLT measurement (which will be our target variable Ewltp)\n",
    " + Keep all contries, discuss why \n",
    " + Search for unique Car Identification number to ommit double cars which have the same characterisics \n",
    " + Discuss percentage error compared to the mean value for different car IDs: TAN, VFN, Ves\n",
    " + Filter out Ve that are not combination from T & Va = Ve \n",
    " + Filter out rows which have ? in their Ve \n",
    "\n",
    " + Drop Columns which are not relevant: ID, r\n",
    " + make separate DF with electric cars for separate research\n",
    "\n",
    "\n",
    "# 4. Evaluation with baseline classification models \n",
    "\n",
    "\n",
    "# 5. Evaluation with baseline regression models \n",
    "\n",
    "\n",
    "\n"
   ]
  }
 ],
 "metadata": {
  "language_info": {
   "name": "python"
  }
 },
 "nbformat": 4,
 "nbformat_minor": 2
}
