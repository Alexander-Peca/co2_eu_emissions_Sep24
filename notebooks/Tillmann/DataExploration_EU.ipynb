{
 "cells": [
  {
   "cell_type": "markdown",
   "metadata": {},
   "source": [
    "\n",
    "# Comments on what this notebook does:\n",
    "\n",
    "# WARNING:\n",
    "\n",
    "For the script to work the data files must be positiong in the data path of the repository. \n",
    "Or the path to the data must be adapted accordingly. In this script all csv data must be in data_path \n",
    "\n",
    "# The data which is used here has received the following steps already \n",
    "\n",
    "* mapping of entries in countrys, and companies and so on, see Andreas notebooks \n",
    "\n",
    "* only unique values remains in columns which are categorical \n",
    "\n",
    "# The process steps which will be done in here:**\n",
    "\n",
    " * Bla bla \n",
    " "
   ]
  },
  {
   "cell_type": "markdown",
   "metadata": {},
   "source": [
    "# Import Libraries"
   ]
  },
  {
   "cell_type": "code",
   "execution_count": 6,
   "metadata": {},
   "outputs": [],
   "source": [
    "# First of all import the required libraries \n",
    "# Data and math  \n",
    "import pandas as pd\n",
    "import numpy as np \n",
    "import pyarrow.parquet as pq\n",
    "\n",
    "# Visualisation \n",
    "import matplotlib.pyplot as plt  # für Matplotlib\n",
    "import seaborn as sns            # für Seaborn\n",
    "import plotly.express as px      # für Plotly Express\n",
    "#%matplotlib inline\n",
    "\n",
    "# Import System Libraries \n",
    "import warnings\n",
    "import os\n",
    "# Ignor all warnings, because there is a front problem with mach \n",
    "warnings.filterwarnings(\"ignore\")\n"
   ]
  },
  {
   "cell_type": "markdown",
   "metadata": {},
   "source": [
    "## Retrieving Data, deleting empty entries, Save dfs in callable variables"
   ]
  },
  {
   "cell_type": "code",
   "execution_count": 8,
   "metadata": {},
   "outputs": [
    {
     "name": "stdout",
     "output_type": "stream",
     "text": [
      "/Users/tillo/Repositoriums/aug24_bds_int---co2/data/EU_all_current_shared.parquet\n",
      "         ID Country  VFN              Mp              Mh  \\\n",
      "0  280060.0      UK  NaN             NaN         UNKNOWN   \n",
      "1  280060.0      UK  NaN             NaN         AUDI AG   \n",
      "2  280060.0      PL  NaN     VW GROUP PC      VOLKSWAGEN   \n",
      "3  280060.0      HU  NaN             NaN  HYUNDAI ASSAN    \n",
      "4  280060.0      HU  NaN  GENERAL MOTORS            OPEL   \n",
      "\n",
      "                                Man       MMS                  Tan  \\\n",
      "0                           UNKNOWN  VAUXHALL                  NaN   \n",
      "1                               NaN      AUDI                  NaN   \n",
      "2                     VOLKSWAGEN AG       NaN  e1*2001/116*0211*27   \n",
      "3  HYUNDAI ASSAN OTOMOTIV SANAYI VE   Hyundai  e11*2007/46*0192*04   \n",
      "4                      ADAM OPEL AG      Opel   e1*2007/46*0374*14   \n",
      "\n",
      "             T       Va  ...  De  Vf Status    year Date of registration  \\\n",
      "0  A-H/MONOCAB     BF11  ... NaN NaN      P  2010.0                  NaN   \n",
      "1           B8  LCAKAQ1  ... NaN NaN      P  2011.0                  NaN   \n",
      "2           1T   CFHCAF  ... NaN NaN      P  2012.0                  NaN   \n",
      "3          ELH    F5D31  ... NaN NaN      P  2013.0                  NaN   \n",
      "4         0G-A  CAHBC12  ... NaN NaN      P  2014.0                  NaN   \n",
      "\n",
      "   Fuel consumption   ech  RLFI  Electric range (km)  #identical occurences  \n",
      "0                NaN  NaN   NaN                  NaN                    1.0  \n",
      "1                NaN  NaN   NaN                  NaN                    1.0  \n",
      "2                NaN  NaN   NaN                  NaN                    1.0  \n",
      "3                NaN  NaN   NaN                  NaN                   30.0  \n",
      "4                NaN  NaN   NaN                  NaN                    1.0  \n",
      "\n",
      "[5 rows x 41 columns]\n"
     ]
    }
   ],
   "source": [
    "# Loading data of the combined french datasets \n",
    "\n",
    "# Path to the neighbouring 'data' folder\n",
    "data_path = os.path.abspath(os.path.join(os.getcwd(), '..', '..','data'))\n",
    "\n",
    "# Check path\n",
    "print(data_path + '/EU_all_current_shared.parquet')\n",
    "\n",
    "# Load csv data\n",
    "table = pq.read_table(os.path.join(data_path, 'EU_all_current_shared.parquet'))\n",
    "\n",
    "# In pandas DataFrame umwandeln\n",
    "data_all = table.to_pandas()\n",
    "\n",
    "# Show head to be sure \n",
    "print(data_all.head())"
   ]
  },
  {
   "cell_type": "markdown",
   "metadata": {},
   "source": []
  },
  {
   "cell_type": "code",
   "execution_count": 9,
   "metadata": {},
   "outputs": [
    {
     "name": "stdout",
     "output_type": "stream",
     "text": [
      "Index(['ID', 'Country', 'VFN', 'Mp', 'Mh', 'Man', 'MMS', 'Tan', 'T', 'Va',\n",
      "       'Ve', 'Mk', 'Cn', 'Ct', 'Cr', 'r', 'm (kg)', 'Mt', 'Enedc (g/km)',\n",
      "       'Ewltp (g/km)', 'W (mm)', 'At1 (mm)', 'At2 (mm)', 'Ft', 'Fm',\n",
      "       'ec (cm3)', 'ep (KW)', 'z (Wh/km)', 'IT', 'Ernedc (g/km)',\n",
      "       'Erwltp (g/km)', 'De', 'Vf', 'Status', 'year', 'Date of registration',\n",
      "       'Fuel consumption ', 'ech', 'RLFI', 'Electric range (km)',\n",
      "       '#identical occurences'],\n",
      "      dtype='object')\n"
     ]
    },
    {
     "data": {
      "text/plain": [
       "(14442792, 41)"
      ]
     },
     "execution_count": 9,
     "metadata": {},
     "output_type": "execute_result"
    }
   ],
   "source": [
    "data_all.head()\n",
    "print(data_all.columns)\n",
    "data_all.shape"
   ]
  },
  {
   "cell_type": "markdown",
   "metadata": {},
   "source": [
    "# Define function to filter for missing values (coming from andreas notebook)"
   ]
  },
  {
   "cell_type": "code",
   "execution_count": null,
   "metadata": {},
   "outputs": [],
   "source": [
    "def count_missing_values(df):\n",
    "    missing_counts = {}\n",
    "    \n",
    "    for col in df.columns:\n",
    "        # Count pd.NA and np.nan separately\n",
    "        pd_na_count = df[col].isna().sum() if df[col].dtype.name == 'category' else 0\n",
    "        np_nan_count = df[col].isna().sum() if df[col].dtype.name == 'float32' else 0\n",
    "        \n",
    "        # Store the results\n",
    "        missing_counts[col] = {'pd.NA': pd_na_count,\n",
    "                               'np.nan': np_nan_count,\n",
    "                               'Dtype': df[col].dtype.name,\n",
    "                               'Percent Missing': f\"{df[col].isna().sum() / len(df[col]) * 100:.2f}%\"\n",
    "}\n",
    "\n",
    "    \n",
    "    # Convert the results to a DataFrame for easier viewing\n",
    "    result_df = pd.DataFrame(missing_counts).T\n",
    "    return result_df"
   ]
  },
  {
   "cell_type": "code",
   "execution_count": 11,
   "metadata": {},
   "outputs": [
    {
     "name": "stdout",
     "output_type": "stream",
     "text": [
      "                          pd.NA    np.nan     Dtype Percent Missing\n",
      "ID                            0         0   float32           0.00%\n",
      "Country                       0         0  category           0.00%\n",
      "VFN                     6022343         0  category          41.70%\n",
      "Mp                      1538457         0  category          10.65%\n",
      "Mh                            0         0  category           0.00%\n",
      "Man                      310768         0  category           2.15%\n",
      "MMS                     6048284         0  category          41.88%\n",
      "Tan                      490543         0  category           3.40%\n",
      "T                         62037         0  category           0.43%\n",
      "Va                       100484         0  category           0.70%\n",
      "Ve                       225223         0  category           1.56%\n",
      "Mk                        42908         0  category           0.30%\n",
      "Cn                        49370         0  category           0.34%\n",
      "Ct                        24710         0  category           0.17%\n",
      "Cr                      2826753         0  category          19.57%\n",
      "r                             0         4   float32           0.00%\n",
      "m (kg)                        0     14075   float32           0.10%\n",
      "Mt                            0   3802983   float32          26.33%\n",
      "Enedc (g/km)                  0   5466691   float32          37.85%\n",
      "Ewltp (g/km)                  0   3565598   float32          24.69%\n",
      "W (mm)                        0   2252091   float32          15.59%\n",
      "At1 (mm)                      0   2523206   float32          17.47%\n",
      "At2 (mm)                      0   2738433   float32          18.96%\n",
      "Ft                        24373         0  category           0.17%\n",
      "Fm                        85880         0  category           0.59%\n",
      "ec (cm3)                      0    613895   float32           4.25%\n",
      "ep (KW)                       0   1401419   float32           9.70%\n",
      "z (Wh/km)                     0  13141566   float32          90.99%\n",
      "IT                      9564034         0  category          66.22%\n",
      "Ernedc (g/km)                 0  12638415   float32          87.51%\n",
      "Erwltp (g/km)                 0  11588146   float32          80.23%\n",
      "De                            0  14116055   float32          97.74%\n",
      "Vf                            0  13299530   float32          92.08%\n",
      "Status                        0         0  category           0.00%\n",
      "year                          0         0   float32           0.00%\n",
      "Date of registration    9206861         0  category          63.75%\n",
      "Fuel consumption              0  10470116   float32          72.49%\n",
      "ech                    13991213         0  category          96.87%\n",
      "RLFI                   13685744         0  category          94.76%\n",
      "Electric range (km)           0  13347797   float32          92.42%\n",
      "#identical occurences         0         0   float32           0.00%\n"
     ]
    }
   ],
   "source": [
    "# Count and display the missing values\n",
    "result = count_missing_values(data_all)\n",
    "print(result)"
   ]
  },
  {
   "cell_type": "markdown",
   "metadata": {},
   "source": []
  },
  {
   "cell_type": "markdown",
   "metadata": {},
   "source": [
    "# Working with specific dataframes from certain years, deleting redundant double columns"
   ]
  }
 ],
 "metadata": {
  "kernelspec": {
   "display_name": "Project_DS_CO2",
   "language": "python",
   "name": "python3"
  },
  "language_info": {
   "codemirror_mode": {
    "name": "ipython",
    "version": 3
   },
   "file_extension": ".py",
   "mimetype": "text/x-python",
   "name": "python",
   "nbconvert_exporter": "python",
   "pygments_lexer": "ipython3",
   "version": "3.9.19"
  }
 },
 "nbformat": 4,
 "nbformat_minor": 2
}
