{
  "nbformat": 4,
  "nbformat_minor": 0,
  "metadata": {
    "colab": {
      "provenance": []
    },
    "kernelspec": {
      "name": "python3",
      "display_name": "Python 3"
    },
    "language_info": {
      "name": "python"
    }
  },
  "cells": [
    {
      "cell_type": "code",
      "execution_count": null,
      "metadata": {
        "id": "DC7pEqhQXYVH"
      },
      "outputs": [],
      "source": [
        "# from getpass import getpass\n",
        "# token = getpass('GitHub Token: ')\n",
        "# !git clone https://{token}@github.com/DataScientest-Studio/aug24_bds_int---co2.git\n",
        "#\n",
        "# repo-clone appears at path: /content/aug24_bds_int---co2    !! which is only temporarly !!\n",
        "# if the kernel resets/session crashes all changes will be LOST !\n",
        "\n",
        "# ->\n",
        "# clone repo in your google-drive so changes will not be lost\n",
        "#\n",
        "#\n",
        "# ! g-colab has no auto refresh, so if: DataPipeline.ipynb is pulled\n",
        "# ! you will not see the changes, reload if required\n",
        "# ! allways MERGE CONFLICTS if changes on DataPipeline.ipynb are done\n",
        "# ! AND top-code-cells are run to load the libs.\n",
        "# ! to avoid merge conflicts:\n",
        "# work an a copy of DataPipeline.ipynb\n",
        "# pull DataPipeline.ipynb\n",
        "# copy and paste your changes (DO NOT RUN the cells)\n",
        "# add/stage/commit the changes\n",
        "# push the changes\n",
        "# reload the updated DataPipeline.ipynb and use a copy to work on"
      ]
    },
    {
      "cell_type": "code",
      "source": [
        "# mount drive\n",
        "from google.colab import drive\n",
        "drive.mount('/content/drive')"
      ],
      "metadata": {
        "id": "Vd52zd-C2Ymw",
        "colab": {
          "base_uri": "https://localhost:8080/"
        },
        "outputId": "1f2bef21-d6ba-4e96-ef04-e38a2ef9cd1f"
      },
      "execution_count": null,
      "outputs": [
        {
          "output_type": "stream",
          "name": "stdout",
          "text": [
            "Drive already mounted at /content/drive; to attempt to forcibly remount, call drive.mount(\"/content/drive\", force_remount=True).\n"
          ]
        }
      ]
    },
    {
      "cell_type": "code",
      "source": [
        "# clone repo into your google-drive.. select your path accordingly\n",
        "# from getpass import getpass\n",
        "# token = getpass('GitHub Token: ')\n",
        "# !git clone https://{token}@github.com/DataScientest-Studio/aug24_bds_int---co2.git /content/drive/MyDrive/aug24_bds_int---co2\n"
      ],
      "metadata": {
        "id": "2D7CJ_yffURF"
      },
      "execution_count": null,
      "outputs": []
    },
    {
      "cell_type": "code",
      "source": [
        "# Git commands - \"Workflow\""
      ],
      "metadata": {
        "id": "07eJTYgG2ojp"
      },
      "execution_count": null,
      "outputs": []
    },
    {
      "cell_type": "code",
      "source": [
        "# Step 1: Mount Google Drive (if not already done)\n",
        "from google.colab import drive\n",
        "drive.mount('/content/drive')\n"
      ],
      "metadata": {
        "colab": {
          "base_uri": "https://localhost:8080/"
        },
        "id": "q_W_ABbHxrR5",
        "outputId": "7fe6afed-04cd-4cb0-fee8-21e7e1baf3f4"
      },
      "execution_count": 1,
      "outputs": [
        {
          "output_type": "stream",
          "name": "stdout",
          "text": [
            "Drive already mounted at /content/drive; to attempt to forcibly remount, call drive.mount(\"/content/drive\", force_remount=True).\n"
          ]
        }
      ]
    },
    {
      "cell_type": "code",
      "source": [
        "# Step 2: Navigate to the cloned repository directory\n",
        "%cd /content/drive/MyDrive/aug24_bds_int---co2\n"
      ],
      "metadata": {
        "colab": {
          "base_uri": "https://localhost:8080/"
        },
        "id": "g5kdfxmP3RlB",
        "outputId": "6c3b657a-38e0-4efe-b538-4ea5825aeaf1"
      },
      "execution_count": 2,
      "outputs": [
        {
          "output_type": "stream",
          "name": "stdout",
          "text": [
            "/content/drive/MyDrive/aug24_bds_int---co2\n"
          ]
        }
      ]
    },
    {
      "cell_type": "code",
      "source": [
        "# Step 3: Add your e-mail/user name - only once per session\n",
        "# (at start, after crash, afer disconnect)\n",
        "!git config user.email \"nx10@hotmail.de\"\n",
        "!git config user.name \"Operator-12\""
      ],
      "metadata": {
        "id": "gmSsnNVHPlvI"
      },
      "execution_count": 3,
      "outputs": []
    },
    {
      "cell_type": "code",
      "source": [
        "# Step 4: Stage the specific Jupyter notebook in the notebooks directory\n",
        "!git add notebooks/DataPipeline.ipynb\n"
      ],
      "metadata": {
        "id": "57G2-qsKxyIe"
      },
      "execution_count": null,
      "outputs": []
    },
    {
      "cell_type": "code",
      "source": [
        "# Step 5: Commit your changes with a descriptive message\n",
        "!git commit -m \"Testing functions in utils_CO continued\"\n"
      ],
      "metadata": {
        "id": "7f3vCgnWyT72"
      },
      "execution_count": null,
      "outputs": []
    },
    {
      "cell_type": "code",
      "source": [
        "# Step 6: Fetch and See remote changes without merging them\n",
        "!git fetch origin\n",
        "!git log origin/main -n 5    # last 5 changes"
      ],
      "metadata": {
        "colab": {
          "base_uri": "https://localhost:8080/"
        },
        "collapsed": true,
        "id": "MV3OSUPQ5Sv7",
        "outputId": "900d7532-34b6-4275-cee7-0202127b6607"
      },
      "execution_count": 4,
      "outputs": [
        {
          "output_type": "stream",
          "name": "stdout",
          "text": [
            "remote: Enumerating objects: 7, done.\u001b[K\n",
            "remote: Counting objects:  14% (1/7)\u001b[K\rremote: Counting objects:  28% (2/7)\u001b[K\rremote: Counting objects:  42% (3/7)\u001b[K\rremote: Counting objects:  57% (4/7)\u001b[K\rremote: Counting objects:  71% (5/7)\u001b[K\rremote: Counting objects:  85% (6/7)\u001b[K\rremote: Counting objects: 100% (7/7)\u001b[K\rremote: Counting objects: 100% (7/7), done.\u001b[K\n",
            "remote: Compressing objects: 100% (1/1)\u001b[K\rremote: Compressing objects: 100% (1/1), done.\u001b[K\n",
            "remote: Total 4 (delta 3), reused 4 (delta 3), pack-reused 0 (from 0)\u001b[K\n",
            "Unpacking objects: 100% (4/4), 460 bytes | 0 bytes/s, done.\n",
            "From https://github.com/DataScientest-Studio/aug24_bds_int---co2\n",
            "   4da2dd4..c52e96d  main       -> origin/main\n",
            "\u001b[33mcommit c52e96d13bb0aab13fce589098b37c31707edeb7\u001b[m\u001b[33m (\u001b[m\u001b[1;31morigin/main\u001b[m\u001b[33m, \u001b[m\u001b[1;31morigin/HEAD\u001b[m\u001b[33m)\u001b[m\n",
            "Author: Operator-12 <138651867+Operator-12@users.noreply.github.com>\n",
            "Date:   Tue Oct 29 10:49:54 2024 +0100\n",
            "\n",
            "    Minor comments update\n",
            "\n",
            "\u001b[33mcommit 4da2dd4503b1c85963374bad7eb4825b9e436cc3\u001b[m\u001b[33m (\u001b[m\u001b[1;36mHEAD -> \u001b[m\u001b[1;32mmain\u001b[m\u001b[33m)\u001b[m\n",
            "Author: Operator-12 <138651867+Operator-12@users.noreply.github.com>\n",
            "Date:   Tue Oct 29 08:28:13 2024 +0100\n",
            "\n",
            "    Just cleaned my OLD cell outputs\n",
            "\n",
            "\u001b[33mcommit f08680a3f65ab762bcc7810177b0e26f7bfe7bf3\u001b[m\n",
            "Author: Operator-12 <138651867+Operator-12@users.noreply.github.com>\n",
            "Date:   Tue Oct 29 08:24:07 2024 +0100\n",
            "\n",
            "    Adaption of my code to min_baseline data-sets\n",
            "\n",
            "\u001b[33mcommit b5e4826e79ec1d226c6603d87ccb2f614775a4a2\u001b[m\n",
            "Author: TilloStralka <t.stralka@icloud.com>\n",
            "Date:   Mon Oct 28 16:06:44 2024 +0100\n",
            "\n",
            "    Added comments to the DNN results\n",
            "\n",
            "\u001b[33mcommit 71f269a10502e65fc440e9d0f3f2b14cbafdf37c\u001b[m\n",
            "Author: TilloStralka <t.stralka@icloud.com>\n",
            "Date:   Mon Oct 28 15:58:21 2024 +0100\n",
            "\n",
            "    Updated dnn preprocessing - Final\n"
          ]
        }
      ]
    },
    {
      "cell_type": "code",
      "source": [
        "# Step 7: Check the status of your working directory\n",
        "!git status\n",
        "\n",
        "# Checks if there is a newer version in the GitHub repository (remote).\n",
        "# Checks if there are any modifications in your local files\n",
        "# compared to the last commit (whether saved locally or pushed)\n",
        "\n",
        "\n",
        "# In case off... -> git restore\n",
        "# Reverts to Last Commit: It restores the file to the state it was in at the most recent  commit\n",
        "# (either local or the last pushed commit, depending on what’s in your local history)\n",
        "# ! Irreversible Action: Any unsaved changes in the file will be permanently lost,\n",
        "## !git restore notebooks/DataPipeline.ipynb"
      ],
      "metadata": {
        "id": "FSqnZks1ATcg"
      },
      "execution_count": null,
      "outputs": []
    },
    {
      "cell_type": "code",
      "source": [
        "# Step 8: Pull the latest changes from the remote repository (to avoid overwriting)\n",
        "!git pull origin main\n",
        "\n",
        "# Rebasing will \"replay\" your local commits on top of the latest commits from the remote branch,\n",
        "# creating a linear history. Use this option if you prefer to avoid a merge commit.\n",
        "# !git pull --rebase origin main\n"
      ],
      "metadata": {
        "id": "rRQAW-nozFm_"
      },
      "execution_count": null,
      "outputs": []
    },
    {
      "cell_type": "code",
      "source": [
        "# Step 9: Push your committed changes to GitHub\n",
        "!git push origin main"
      ],
      "metadata": {
        "id": "4JirvibA0j_7"
      },
      "execution_count": null,
      "outputs": []
    },
    {
      "cell_type": "code",
      "source": [
        "# !git rebase --abort"
      ],
      "metadata": {
        "id": "2dVE9qjtCYT6"
      },
      "execution_count": null,
      "outputs": []
    },
    {
      "cell_type": "code",
      "source": [
        "# !git stash"
      ],
      "metadata": {
        "id": "dTSJMcwaEwYA"
      },
      "execution_count": null,
      "outputs": []
    },
    {
      "cell_type": "code",
      "source": [
        "# !git fetch origin"
      ],
      "metadata": {
        "id": "VlI3sVegSCbR"
      },
      "execution_count": null,
      "outputs": []
    },
    {
      "cell_type": "code",
      "source": [
        "# Reset Your Local Branch to Match the Remote Branch:\n",
        "# This will discard all local commits and changes that haven’t been pushed,\n",
        "# resetting your branch to match origin/main.\n",
        "# !git reset --hard origin/main"
      ],
      "metadata": {
        "colab": {
          "base_uri": "https://localhost:8080/"
        },
        "id": "B3Dyx4FKP9m4",
        "outputId": "c7292be2-982b-4c81-dfe6-e63d0dd5cd7d"
      },
      "execution_count": 5,
      "outputs": [
        {
          "output_type": "stream",
          "name": "stdout",
          "text": [
            "Updating files: 100% (50/50), done.\n",
            "HEAD is now at 4da2dd4 Just cleaned my OLD cell outputs\n"
          ]
        }
      ]
    },
    {
      "cell_type": "code",
      "source": [],
      "metadata": {
        "id": "ClQXBYWKP_xf"
      },
      "execution_count": null,
      "outputs": []
    }
  ]
}